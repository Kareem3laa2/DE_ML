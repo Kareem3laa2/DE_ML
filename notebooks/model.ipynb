{
 "cells": [
  {
   "cell_type": "code",
   "execution_count": null,
   "id": "ddb73e7a",
   "metadata": {},
   "outputs": [],
   "source": [
    "\n",
    "from pyspark.sql.functions import *\n",
    "from pyspark.ml.feature import StringIndexer, VectorAssembler, StandardScaler, OneHotEncoder\n",
    "from pyspark.ml import Pipeline\n",
    "from pyspark.ml.classification import LogisticRegression, RandomForestClassifier\n",
    "from pyspark.ml.evaluation import BinaryClassificationEvaluator, MulticlassClassificationEvaluator\n",
    "import pandas as pd\n",
    "\n"
   ]
  },
  {
   "cell_type": "code",
   "execution_count": 1,
   "id": "df42e4eb",
   "metadata": {},
   "outputs": [],
   "source": [
    "from pyspark.sql import SparkSession"
   ]
  },
  {
   "cell_type": "code",
   "execution_count": 2,
   "id": "2b6a2efb",
   "metadata": {},
   "outputs": [],
   "source": [
    "spark = SparkSession.builder \\\n",
    "    .appName(\"ChurnModelTraining\") \\\n",
    "    .master(\"spark://spark-master:7077\") \\\n",
    "    .getOrCreate()"
   ]
  },
  {
   "cell_type": "code",
   "execution_count": 3,
   "id": "235863f4",
   "metadata": {},
   "outputs": [],
   "source": [
    "df = spark.read.parquet(\"hdfs://namenode:8020/user/telco/cleaned/telco_cleaned.parquet\")"
   ]
  },
  {
   "cell_type": "code",
   "execution_count": null,
   "id": "ba9c93c2",
   "metadata": {},
   "outputs": [],
   "source": []
  },
  {
   "cell_type": "code",
   "execution_count": 45,
   "id": "3de8f2e7",
   "metadata": {},
   "outputs": [
    {
     "name": "stdout",
     "output_type": "stream",
     "text": [
      "root\n",
      " |-- customerid: string (nullable = true)\n",
      " |-- gender: string (nullable = true)\n",
      " |-- seniorcitizen: string (nullable = true)\n",
      " |-- partner: string (nullable = true)\n",
      " |-- dependents: string (nullable = true)\n",
      " |-- tenure: integer (nullable = true)\n",
      " |-- phoneservice: string (nullable = true)\n",
      " |-- multiplelines: string (nullable = true)\n",
      " |-- internetservice: string (nullable = true)\n",
      " |-- onlinesecurity: string (nullable = true)\n",
      " |-- onlinebackup: string (nullable = true)\n",
      " |-- deviceprotection: string (nullable = true)\n",
      " |-- techsupport: string (nullable = true)\n",
      " |-- streamingtv: string (nullable = true)\n",
      " |-- streamingmovies: string (nullable = true)\n",
      " |-- contract: string (nullable = true)\n",
      " |-- paperlessbilling: string (nullable = true)\n",
      " |-- paymentmethod: string (nullable = true)\n",
      " |-- monthlycharges: double (nullable = true)\n",
      " |-- totalcharges: double (nullable = true)\n",
      " |-- churn: integer (nullable = true)\n",
      "\n"
     ]
    }
   ],
   "source": [
    "df.printSchema()"
   ]
  },
  {
   "cell_type": "code",
   "execution_count": 46,
   "id": "b6f15960",
   "metadata": {},
   "outputs": [],
   "source": [
    "df_pandas = df.toPandas()"
   ]
  },
  {
   "cell_type": "code",
   "execution_count": 47,
   "id": "3718dbf7",
   "metadata": {},
   "outputs": [
    {
     "data": {
      "text/html": [
       "<div>\n",
       "<style scoped>\n",
       "    .dataframe tbody tr th:only-of-type {\n",
       "        vertical-align: middle;\n",
       "    }\n",
       "\n",
       "    .dataframe tbody tr th {\n",
       "        vertical-align: top;\n",
       "    }\n",
       "\n",
       "    .dataframe thead th {\n",
       "        text-align: right;\n",
       "    }\n",
       "</style>\n",
       "<table border=\"1\" class=\"dataframe\">\n",
       "  <thead>\n",
       "    <tr style=\"text-align: right;\">\n",
       "      <th></th>\n",
       "      <th>churn</th>\n",
       "    </tr>\n",
       "  </thead>\n",
       "  <tbody>\n",
       "    <tr>\n",
       "      <th>0</th>\n",
       "      <td>0</td>\n",
       "    </tr>\n",
       "    <tr>\n",
       "      <th>1</th>\n",
       "      <td>0</td>\n",
       "    </tr>\n",
       "    <tr>\n",
       "      <th>2</th>\n",
       "      <td>1</td>\n",
       "    </tr>\n",
       "    <tr>\n",
       "      <th>3</th>\n",
       "      <td>0</td>\n",
       "    </tr>\n",
       "    <tr>\n",
       "      <th>4</th>\n",
       "      <td>1</td>\n",
       "    </tr>\n",
       "    <tr>\n",
       "      <th>...</th>\n",
       "      <td>...</td>\n",
       "    </tr>\n",
       "    <tr>\n",
       "      <th>7038</th>\n",
       "      <td>0</td>\n",
       "    </tr>\n",
       "    <tr>\n",
       "      <th>7039</th>\n",
       "      <td>0</td>\n",
       "    </tr>\n",
       "    <tr>\n",
       "      <th>7040</th>\n",
       "      <td>0</td>\n",
       "    </tr>\n",
       "    <tr>\n",
       "      <th>7041</th>\n",
       "      <td>1</td>\n",
       "    </tr>\n",
       "    <tr>\n",
       "      <th>7042</th>\n",
       "      <td>0</td>\n",
       "    </tr>\n",
       "  </tbody>\n",
       "</table>\n",
       "<p>7043 rows × 1 columns</p>\n",
       "</div>"
      ],
      "text/plain": [
       "      churn\n",
       "0         0\n",
       "1         0\n",
       "2         1\n",
       "3         0\n",
       "4         1\n",
       "...     ...\n",
       "7038      0\n",
       "7039      0\n",
       "7040      0\n",
       "7041      1\n",
       "7042      0\n",
       "\n",
       "[7043 rows x 1 columns]"
      ]
     },
     "execution_count": 47,
     "metadata": {},
     "output_type": "execute_result"
    }
   ],
   "source": [
    "df_pandas[['churn']]"
   ]
  },
  {
   "cell_type": "code",
   "execution_count": 48,
   "id": "28f6b3c9",
   "metadata": {},
   "outputs": [
    {
     "data": {
      "text/html": [
       "<div>\n",
       "<style scoped>\n",
       "    .dataframe tbody tr th:only-of-type {\n",
       "        vertical-align: middle;\n",
       "    }\n",
       "\n",
       "    .dataframe tbody tr th {\n",
       "        vertical-align: top;\n",
       "    }\n",
       "\n",
       "    .dataframe thead th {\n",
       "        text-align: right;\n",
       "    }\n",
       "</style>\n",
       "<table border=\"1\" class=\"dataframe\">\n",
       "  <thead>\n",
       "    <tr style=\"text-align: right;\">\n",
       "      <th></th>\n",
       "      <th>tenure</th>\n",
       "      <th>monthlycharges</th>\n",
       "      <th>totalcharges</th>\n",
       "      <th>churn</th>\n",
       "    </tr>\n",
       "  </thead>\n",
       "  <tbody>\n",
       "    <tr>\n",
       "      <th>tenure</th>\n",
       "      <td>1.000000</td>\n",
       "      <td>0.247900</td>\n",
       "      <td>0.828025</td>\n",
       "      <td>-0.352229</td>\n",
       "    </tr>\n",
       "    <tr>\n",
       "      <th>monthlycharges</th>\n",
       "      <td>0.247900</td>\n",
       "      <td>1.000000</td>\n",
       "      <td>0.651139</td>\n",
       "      <td>0.193356</td>\n",
       "    </tr>\n",
       "    <tr>\n",
       "      <th>totalcharges</th>\n",
       "      <td>0.828025</td>\n",
       "      <td>0.651139</td>\n",
       "      <td>1.000000</td>\n",
       "      <td>-0.198342</td>\n",
       "    </tr>\n",
       "    <tr>\n",
       "      <th>churn</th>\n",
       "      <td>-0.352229</td>\n",
       "      <td>0.193356</td>\n",
       "      <td>-0.198342</td>\n",
       "      <td>1.000000</td>\n",
       "    </tr>\n",
       "  </tbody>\n",
       "</table>\n",
       "</div>"
      ],
      "text/plain": [
       "                  tenure  monthlycharges  totalcharges     churn\n",
       "tenure          1.000000        0.247900      0.828025 -0.352229\n",
       "monthlycharges  0.247900        1.000000      0.651139  0.193356\n",
       "totalcharges    0.828025        0.651139      1.000000 -0.198342\n",
       "churn          -0.352229        0.193356     -0.198342  1.000000"
      ]
     },
     "execution_count": 48,
     "metadata": {},
     "output_type": "execute_result"
    }
   ],
   "source": [
    "df_pandas.corr()"
   ]
  },
  {
   "cell_type": "code",
   "execution_count": 49,
   "id": "68c3d266",
   "metadata": {},
   "outputs": [
    {
     "data": {
      "text/plain": [
       "customerid          0\n",
       "gender              0\n",
       "seniorcitizen       0\n",
       "partner             0\n",
       "dependents          0\n",
       "tenure              0\n",
       "phoneservice        0\n",
       "multiplelines       0\n",
       "internetservice     0\n",
       "onlinesecurity      0\n",
       "onlinebackup        0\n",
       "deviceprotection    0\n",
       "techsupport         0\n",
       "streamingtv         0\n",
       "streamingmovies     0\n",
       "contract            0\n",
       "paperlessbilling    0\n",
       "paymentmethod       0\n",
       "monthlycharges      0\n",
       "totalcharges        0\n",
       "churn               0\n",
       "dtype: int64"
      ]
     },
     "execution_count": 49,
     "metadata": {},
     "output_type": "execute_result"
    }
   ],
   "source": [
    "df_pandas.isnull().sum()"
   ]
  },
  {
   "cell_type": "code",
   "execution_count": 50,
   "id": "9b0a8d7e",
   "metadata": {},
   "outputs": [],
   "source": [
    "# df = df.withColumn(\"churn\", when(col(\"churn\") == \"Yes\", 1).otherwise(0))"
   ]
  },
  {
   "cell_type": "code",
   "execution_count": 51,
   "id": "e39467d9",
   "metadata": {},
   "outputs": [],
   "source": [
    "df_pandas = df.toPandas()"
   ]
  },
  {
   "cell_type": "code",
   "execution_count": 56,
   "id": "d4defaf3",
   "metadata": {},
   "outputs": [
    {
     "data": {
      "text/plain": [
       "0    5174\n",
       "1    1869\n",
       "Name: churn, dtype: int64"
      ]
     },
     "execution_count": 56,
     "metadata": {},
     "output_type": "execute_result"
    }
   ],
   "source": [
    "df_pandas[\"churn\"].value_counts()"
   ]
  },
  {
   "cell_type": "markdown",
   "id": "85da3acb",
   "metadata": {},
   "source": [
    "## We Want to detect the outliers"
   ]
  },
  {
   "cell_type": "code",
   "execution_count": 57,
   "id": "7fd2b8d2",
   "metadata": {},
   "outputs": [],
   "source": [
    "def detect_outliers(df, column):\n",
    "    quantiles = df.approxQuantile(column, [0.25, 0.75], 0.05)\n",
    "    Q1 = quantiles[0]\n",
    "    Q3 = quantiles[1]\n",
    "    IQR = Q3 - Q1\n",
    "    lower_bound = Q1 - 1.5 * IQR\n",
    "    upper_bound = Q3 + 1.5 * IQR\n",
    "    outliers = df.filter((col(column) < lower_bound) | (col(column) > upper_bound)) \n",
    "    print(f\"Number of outliers in {column}: {outliers.count()}\")\n",
    "    return lower_bound, upper_bound\n"
   ]
  },
  {
   "cell_type": "code",
   "execution_count": 58,
   "id": "d29f1592",
   "metadata": {},
   "outputs": [
    {
     "name": "stdout",
     "output_type": "stream",
     "text": [
      "Number of outliers in totalcharges: 0\n"
     ]
    }
   ],
   "source": [
    "t_lower_bound, t_upper_bound = detect_outliers(df , \"totalcharges\")"
   ]
  },
  {
   "cell_type": "code",
   "execution_count": 59,
   "id": "106fb0de",
   "metadata": {},
   "outputs": [
    {
     "name": "stdout",
     "output_type": "stream",
     "text": [
      "Number of outliers in monthlycharges: 0\n"
     ]
    },
    {
     "data": {
      "text/plain": [
       "(-31.250000000000007, 157.15)"
      ]
     },
     "execution_count": 59,
     "metadata": {},
     "output_type": "execute_result"
    }
   ],
   "source": [
    "detect_outliers(df , \"monthlycharges\")"
   ]
  },
  {
   "cell_type": "code",
   "execution_count": 60,
   "id": "b73b99f8",
   "metadata": {},
   "outputs": [
    {
     "name": "stdout",
     "output_type": "stream",
     "text": [
      "Number of outliers in tenure: 0\n"
     ]
    },
    {
     "data": {
      "text/plain": [
       "(-55.5, 116.5)"
      ]
     },
     "execution_count": 60,
     "metadata": {},
     "output_type": "execute_result"
    }
   ],
   "source": [
    "detect_outliers(df , \"tenure\")"
   ]
  },
  {
   "cell_type": "code",
   "execution_count": 61,
   "id": "012e3657",
   "metadata": {},
   "outputs": [],
   "source": [
    "def cap_outliers(df, col_name, lower_bound, upper_bound):\n",
    "    return df.withColumn(\n",
    "        col_name,\n",
    "        when(col(col_name) < lower_bound, lower_bound)\n",
    "        .when(col(col_name) > upper_bound, upper_bound)\n",
    "        .otherwise(col(col_name))\n",
    "    )"
   ]
  },
  {
   "cell_type": "code",
   "execution_count": 62,
   "id": "d5ffaba8",
   "metadata": {},
   "outputs": [],
   "source": [
    "df = cap_outliers(df, \"totalcharges\", t_lower_bound, t_upper_bound)"
   ]
  },
  {
   "cell_type": "code",
   "execution_count": 63,
   "id": "3da43269",
   "metadata": {},
   "outputs": [
    {
     "name": "stdout",
     "output_type": "stream",
     "text": [
      "Number of outliers in totalcharges: 0\n"
     ]
    },
    {
     "data": {
      "text/plain": [
       "(-3927.1499999999996, 7662.049999999999)"
      ]
     },
     "execution_count": 63,
     "metadata": {},
     "output_type": "execute_result"
    }
   ],
   "source": [
    "detect_outliers(df , \"totalcharges\")"
   ]
  },
  {
   "cell_type": "markdown",
   "id": "263c8ed7",
   "metadata": {},
   "source": [
    "## Outliers removed (winsorizing)"
   ]
  },
  {
   "cell_type": "markdown",
   "id": "5c836169",
   "metadata": {},
   "source": [
    "## Split the data"
   ]
  },
  {
   "cell_type": "code",
   "execution_count": 64,
   "id": "49a71a62",
   "metadata": {},
   "outputs": [],
   "source": [
    "train_data, test_data = df.randomSplit([0.8, 0.2], seed=42)"
   ]
  },
  {
   "cell_type": "code",
   "execution_count": 65,
   "id": "02943641",
   "metadata": {},
   "outputs": [
    {
     "data": {
      "text/plain": [
       "[('customerid', 'string'),\n",
       " ('gender', 'string'),\n",
       " ('seniorcitizen', 'string'),\n",
       " ('partner', 'string'),\n",
       " ('dependents', 'string'),\n",
       " ('tenure', 'int'),\n",
       " ('phoneservice', 'string'),\n",
       " ('multiplelines', 'string'),\n",
       " ('internetservice', 'string'),\n",
       " ('onlinesecurity', 'string'),\n",
       " ('onlinebackup', 'string'),\n",
       " ('deviceprotection', 'string'),\n",
       " ('techsupport', 'string'),\n",
       " ('streamingtv', 'string'),\n",
       " ('streamingmovies', 'string'),\n",
       " ('contract', 'string'),\n",
       " ('paperlessbilling', 'string'),\n",
       " ('paymentmethod', 'string'),\n",
       " ('monthlycharges', 'double'),\n",
       " ('totalcharges', 'double'),\n",
       " ('churn', 'int')]"
      ]
     },
     "execution_count": 65,
     "metadata": {},
     "output_type": "execute_result"
    }
   ],
   "source": [
    "trainCols = train_data.dtypes\n",
    "train_data.dtypes"
   ]
  },
  {
   "cell_type": "code",
   "execution_count": 66,
   "id": "31f889ad",
   "metadata": {},
   "outputs": [],
   "source": [
    "stringCols = [f for (f , v) in trainCols if v == \"string\" and f not in  [\"customerid\" , \"streamingmovies\", \"deviceprotection\", \"streamingtv\", \"paymentmethod\"]]"
   ]
  },
  {
   "cell_type": "code",
   "execution_count": 67,
   "id": "e7178ccd",
   "metadata": {},
   "outputs": [],
   "source": [
    "numericCols = [f for (f, v) in trainCols if ((v == \"double\") & (f != \"churn\"))]"
   ]
  },
  {
   "cell_type": "code",
   "execution_count": 68,
   "id": "0091fe1a",
   "metadata": {},
   "outputs": [
    {
     "data": {
      "text/plain": [
       "['gender_index',\n",
       " 'seniorcitizen_index',\n",
       " 'partner_index',\n",
       " 'dependents_index',\n",
       " 'phoneservice_index',\n",
       " 'multiplelines_index',\n",
       " 'internetservice_index',\n",
       " 'onlinesecurity_index',\n",
       " 'onlinebackup_index',\n",
       " 'techsupport_index',\n",
       " 'contract_index',\n",
       " 'paperlessbilling_index']"
      ]
     },
     "execution_count": 68,
     "metadata": {},
     "output_type": "execute_result"
    }
   ],
   "source": [
    "strIndexCols = [col+\"_index\" for col in stringCols]\n",
    "strIndexCols"
   ]
  },
  {
   "cell_type": "code",
   "execution_count": 69,
   "id": "7f22e4d4",
   "metadata": {},
   "outputs": [
    {
     "data": {
      "text/plain": [
       "['gender_ohe',\n",
       " 'seniorcitizen_ohe',\n",
       " 'partner_ohe',\n",
       " 'dependents_ohe',\n",
       " 'phoneservice_ohe',\n",
       " 'multiplelines_ohe',\n",
       " 'internetservice_ohe',\n",
       " 'onlinesecurity_ohe',\n",
       " 'onlinebackup_ohe',\n",
       " 'techsupport_ohe',\n",
       " 'contract_ohe',\n",
       " 'paperlessbilling_ohe']"
      ]
     },
     "execution_count": 69,
     "metadata": {},
     "output_type": "execute_result"
    }
   ],
   "source": [
    "oheCols = [col+\"_ohe\" for col in stringCols]\n",
    "oheCols"
   ]
  },
  {
   "cell_type": "code",
   "execution_count": 70,
   "id": "3302dc04",
   "metadata": {},
   "outputs": [],
   "source": [
    "allDataCols = oheCols + numericCols "
   ]
  },
  {
   "cell_type": "code",
   "execution_count": 71,
   "id": "88cfe531",
   "metadata": {},
   "outputs": [],
   "source": [
    "indexers = [StringIndexer(inputCol=col, outputCol=col+\"_index\", handleInvalid='keep') for col in stringCols]\n",
    "\n",
    "ohe = OneHotEncoder(inputCols=strIndexCols, outputCols=oheCols)\n",
    "\n",
    "assembler = VectorAssembler(inputCols=allDataCols, outputCol=\"features_unscaled\")\n",
    "\n",
    "scaler = StandardScaler(inputCol=\"features_unscaled\", outputCol=\"features\")\n",
    "\n",
    "lr = LogisticRegression(featuresCol=\"features\" , labelCol=\"churn\",predictionCol=\"churnPrediction\")"
   ]
  },
  {
   "cell_type": "code",
   "execution_count": 72,
   "id": "f8e2fe45",
   "metadata": {},
   "outputs": [],
   "source": [
    "pipeline = Pipeline(stages = indexers +  [ohe ,  assembler  , scaler , lr])\n",
    "\n",
    "pipeline_model = pipeline.fit(train_data)"
   ]
  },
  {
   "cell_type": "code",
   "execution_count": 73,
   "id": "c832eb48",
   "metadata": {},
   "outputs": [],
   "source": [
    "predictions = pipeline_model.transform(test_data)"
   ]
  },
  {
   "cell_type": "code",
   "execution_count": 74,
   "id": "c8966e09",
   "metadata": {},
   "outputs": [
    {
     "name": "stdout",
     "output_type": "stream",
     "text": [
      "AUC-ROC: 0.8322\n"
     ]
    }
   ],
   "source": [
    "evaluator = BinaryClassificationEvaluator(\n",
    "    labelCol=\"churn\", rawPredictionCol=\"rawPrediction\", metricName=\"areaUnderROC\"\n",
    ")\n",
    "\n",
    "auc = evaluator.evaluate(predictions)\n",
    "print(f\"AUC-ROC: {auc:.4f}\")"
   ]
  },
  {
   "cell_type": "code",
   "execution_count": 75,
   "id": "de0aaf4a",
   "metadata": {},
   "outputs": [
    {
     "name": "stdout",
     "output_type": "stream",
     "text": [
      "Precision: 0.8381\n",
      "Recall:    0.9068\n",
      "F1 Score:  0.7972\n"
     ]
    }
   ],
   "source": [
    "precision_evaluator = MulticlassClassificationEvaluator(\n",
    "    labelCol=\"churn\", predictionCol=\"churnPrediction\", metricName=\"precisionByLabel\"\n",
    ")\n",
    "recall_evaluator = MulticlassClassificationEvaluator(\n",
    "    labelCol=\"churn\", predictionCol=\"churnPrediction\", metricName=\"recallByLabel\"\n",
    ")\n",
    "f1_evaluator = MulticlassClassificationEvaluator(\n",
    "    labelCol=\"churn\", predictionCol=\"churnPrediction\", metricName=\"f1\"\n",
    ")\n",
    "\n",
    "precision = precision_evaluator.evaluate(predictions)\n",
    "recall = recall_evaluator.evaluate(predictions)\n",
    "f1 = f1_evaluator.evaluate(predictions)\n",
    "\n",
    "print(f\"Precision: {precision:.4f}\")\n",
    "print(f\"Recall:    {recall:.4f}\")\n",
    "print(f\"F1 Score:  {f1:.4f}\")"
   ]
  },
  {
   "cell_type": "code",
   "execution_count": 76,
   "id": "bc179111",
   "metadata": {},
   "outputs": [
    {
     "name": "stdout",
     "output_type": "stream",
     "text": [
      "totalcharges                  : 0.0244\n",
      "techsupport_ohe               : 0.0117\n",
      "monthlycharges                : 0.0117\n",
      "internetservice_ohe           : -0.0166\n",
      "dependents_ohe                : -0.0299\n",
      "paperlessbilling_ohe          : -0.0337\n",
      "phoneservice_ohe              : -0.0415\n",
      "seniorcitizen_ohe             : -0.0532\n",
      "gender_ohe                    : -0.0618\n",
      "multiplelines_ohe             : -0.0736\n",
      "contract_ohe                  : -0.0887\n",
      "onlinesecurity_ohe            : -0.1089\n",
      "partner_ohe                   : -0.1266\n",
      "onlinebackup_ohe              : -0.2068\n"
     ]
    }
   ],
   "source": [
    "lr_model = pipeline_model.stages[-1]  # last stage is RandomForestClassifier\n",
    "importances = lr_model.coefficients.toArray()\n",
    "features = pipeline_model.stages[-3].getInputCols()  # VectorAssembler input features\n",
    "\n",
    "# Zip and sort\n",
    "importance = sorted(zip(features, importances), key=lambda x: x[1], reverse=True)\n",
    "\n",
    "# Print feature importance\n",
    "for feature, score in importance:\n",
    "    print(f\"{feature:30s}: {score:.4f}\")"
   ]
  },
  {
   "cell_type": "markdown",
   "id": "502178c9",
   "metadata": {},
   "source": [
    "## Try a new pipeline with RandomForest"
   ]
  },
  {
   "cell_type": "code",
   "execution_count": 77,
   "id": "c1d6a57a",
   "metadata": {},
   "outputs": [],
   "source": [
    "indexers = [StringIndexer(inputCol=col, outputCol=col+\"_index\", handleInvalid='keep') for col in stringCols]\n",
    "\n",
    "ohe = OneHotEncoder(inputCols=strIndexCols, outputCols=oheCols)\n",
    "\n",
    "assembler = VectorAssembler(inputCols=allDataCols, outputCol=\"features_unscaled\")\n",
    "\n",
    "scaler = StandardScaler(inputCol=\"features_unscaled\", outputCol=\"features\")\n",
    "\n",
    "rf = RandomForestClassifier(featuresCol=\"features\" , labelCol=\"churn\",predictionCol=\"churnPrediction\")"
   ]
  },
  {
   "cell_type": "code",
   "execution_count": 78,
   "id": "0caee2bd",
   "metadata": {},
   "outputs": [],
   "source": [
    "pipeline = Pipeline(stages = indexers +  [ohe ,  assembler  , scaler , rf])\n",
    "\n",
    "pipeline_model = pipeline.fit(train_data)"
   ]
  },
  {
   "cell_type": "code",
   "execution_count": 79,
   "id": "f94fa8f4",
   "metadata": {},
   "outputs": [],
   "source": [
    "predictions = pipeline_model.transform(test_data)"
   ]
  },
  {
   "cell_type": "code",
   "execution_count": 80,
   "id": "fde8511e",
   "metadata": {},
   "outputs": [
    {
     "name": "stdout",
     "output_type": "stream",
     "text": [
      "AUC-ROC: 0.8299\n"
     ]
    }
   ],
   "source": [
    "evaluator = BinaryClassificationEvaluator(\n",
    "    labelCol=\"churn\", rawPredictionCol=\"rawPrediction\", metricName=\"areaUnderROC\"\n",
    ")\n",
    "\n",
    "auc = evaluator.evaluate(predictions)\n",
    "print(f\"AUC-ROC: {auc:.4f}\")"
   ]
  },
  {
   "cell_type": "code",
   "execution_count": 81,
   "id": "80eb9bb4",
   "metadata": {},
   "outputs": [
    {
     "name": "stdout",
     "output_type": "stream",
     "text": [
      "Precision: 0.7911\n",
      "Recall:    0.9508\n",
      "F1 Score:  0.7525\n"
     ]
    }
   ],
   "source": [
    "precision_evaluator = MulticlassClassificationEvaluator(\n",
    "    labelCol=\"churn\", predictionCol=\"churnPrediction\", metricName=\"precisionByLabel\"\n",
    ")\n",
    "recall_evaluator = MulticlassClassificationEvaluator(\n",
    "    labelCol=\"churn\", predictionCol=\"churnPrediction\", metricName=\"recallByLabel\"\n",
    ")\n",
    "f1_evaluator = MulticlassClassificationEvaluator(\n",
    "    labelCol=\"churn\", predictionCol=\"churnPrediction\", metricName=\"f1\"\n",
    ")\n",
    "\n",
    "precision = precision_evaluator.evaluate(predictions)\n",
    "recall = recall_evaluator.evaluate(predictions)\n",
    "f1 = f1_evaluator.evaluate(predictions)\n",
    "\n",
    "print(f\"Precision: {precision:.4f}\")\n",
    "print(f\"Recall:    {recall:.4f}\")\n",
    "print(f\"F1 Score:  {f1:.4f}\")"
   ]
  },
  {
   "cell_type": "code",
   "execution_count": 82,
   "id": "70ac8097",
   "metadata": {},
   "outputs": [
    {
     "name": "stdout",
     "output_type": "stream",
     "text": [
      "totalcharges                  : 0.0926\n",
      "partner_ohe                   : 0.0044\n",
      "multiplelines_ohe             : 0.0038\n",
      "phoneservice_ohe              : 0.0027\n",
      "onlinesecurity_ohe            : 0.0025\n",
      "dependents_ohe                : 0.0021\n",
      "techsupport_ohe               : 0.0014\n",
      "internetservice_ohe           : 0.0011\n",
      "gender_ohe                    : 0.0008\n",
      "seniorcitizen_ohe             : 0.0005\n",
      "monthlycharges                : 0.0001\n",
      "paperlessbilling_ohe          : 0.0000\n",
      "onlinebackup_ohe              : 0.0000\n",
      "contract_ohe                  : 0.0000\n"
     ]
    }
   ],
   "source": [
    "rf_model = pipeline_model.stages[-1]  # last stage is RandomForestClassifier\n",
    "importances = rf_model.featureImportances.toArray()\n",
    "features = pipeline_model.stages[-3].getInputCols()  # VectorAssembler input features\n",
    "\n",
    "# Zip and sort\n",
    "importance = sorted(zip(features, importances), key=lambda x: x[1], reverse=True)\n",
    "\n",
    "# Print feature importance\n",
    "for feature, score in importance:\n",
    "    print(f\"{feature:30s}: {score:.4f}\")\n"
   ]
  },
  {
   "cell_type": "code",
   "execution_count": 83,
   "id": "592a86b9",
   "metadata": {},
   "outputs": [
    {
     "name": "stdout",
     "output_type": "stream",
     "text": [
      "+----------+-----+---------------+\n",
      "|customerid|churn|churnPrediction|\n",
      "+----------+-----+---------------+\n",
      "|0004-TLHLJ|    1|            1.0|\n",
      "|0013-SMEOE|    0|            0.0|\n",
      "|0015-UOCOJ|    0|            0.0|\n",
      "|0019-EFAEP|    0|            0.0|\n",
      "|0023-HGHWL|    1|            0.0|\n",
      "+----------+-----+---------------+\n",
      "only showing top 5 rows\n",
      "\n"
     ]
    }
   ],
   "source": [
    "predictions.select(\"customerid\", \"churn\", \"churnPrediction\").show(5)"
   ]
  },
  {
   "cell_type": "markdown",
   "id": "f1bf59f8",
   "metadata": {},
   "source": [
    "## The `logisiticRegression` model is more balanced than the `RandomForest`"
   ]
  },
  {
   "cell_type": "code",
   "execution_count": 4,
   "id": "12e47966",
   "metadata": {},
   "outputs": [],
   "source": [
    "import pandas as pd\n",
    "import numpy as np\n",
    "from sklearn.preprocessing import OneHotEncoder, StandardScaler\n",
    "from sklearn.compose import ColumnTransformer\n",
    "from sklearn.pipeline import Pipeline\n",
    "from sklearn.ensemble import RandomForestClassifier\n",
    "from sklearn.model_selection import train_test_split\n",
    "from sqlalchemy import create_engine\n"
   ]
  },
  {
   "cell_type": "code",
   "execution_count": 5,
   "id": "9f56999a",
   "metadata": {},
   "outputs": [],
   "source": [
    "df= df.toPandas()"
   ]
  },
  {
   "cell_type": "code",
   "execution_count": 6,
   "id": "ca691190",
   "metadata": {},
   "outputs": [
    {
     "data": {
      "text/html": [
       "<div>\n",
       "<style scoped>\n",
       "    .dataframe tbody tr th:only-of-type {\n",
       "        vertical-align: middle;\n",
       "    }\n",
       "\n",
       "    .dataframe tbody tr th {\n",
       "        vertical-align: top;\n",
       "    }\n",
       "\n",
       "    .dataframe thead th {\n",
       "        text-align: right;\n",
       "    }\n",
       "</style>\n",
       "<table border=\"1\" class=\"dataframe\">\n",
       "  <thead>\n",
       "    <tr style=\"text-align: right;\">\n",
       "      <th></th>\n",
       "      <th>customerid</th>\n",
       "      <th>gender</th>\n",
       "      <th>seniorcitizen</th>\n",
       "      <th>partner</th>\n",
       "      <th>dependents</th>\n",
       "      <th>tenure</th>\n",
       "      <th>phoneservice</th>\n",
       "      <th>multiplelines</th>\n",
       "      <th>internetservice</th>\n",
       "      <th>onlinesecurity</th>\n",
       "      <th>...</th>\n",
       "      <th>deviceprotection</th>\n",
       "      <th>techsupport</th>\n",
       "      <th>streamingtv</th>\n",
       "      <th>streamingmovies</th>\n",
       "      <th>contract</th>\n",
       "      <th>paperlessbilling</th>\n",
       "      <th>paymentmethod</th>\n",
       "      <th>monthlycharges</th>\n",
       "      <th>totalcharges</th>\n",
       "      <th>churn</th>\n",
       "    </tr>\n",
       "  </thead>\n",
       "  <tbody>\n",
       "    <tr>\n",
       "      <th>0</th>\n",
       "      <td>7590-VHVEG</td>\n",
       "      <td>Female</td>\n",
       "      <td>No</td>\n",
       "      <td>Yes</td>\n",
       "      <td>No</td>\n",
       "      <td>1</td>\n",
       "      <td>No</td>\n",
       "      <td>No phone service</td>\n",
       "      <td>DSL</td>\n",
       "      <td>No</td>\n",
       "      <td>...</td>\n",
       "      <td>No</td>\n",
       "      <td>No</td>\n",
       "      <td>No</td>\n",
       "      <td>No</td>\n",
       "      <td>Month-to-month</td>\n",
       "      <td>Yes</td>\n",
       "      <td>Electronic check</td>\n",
       "      <td>29.85</td>\n",
       "      <td>29.85</td>\n",
       "      <td>0</td>\n",
       "    </tr>\n",
       "    <tr>\n",
       "      <th>1</th>\n",
       "      <td>5575-GNVDE</td>\n",
       "      <td>Male</td>\n",
       "      <td>No</td>\n",
       "      <td>No</td>\n",
       "      <td>No</td>\n",
       "      <td>34</td>\n",
       "      <td>Yes</td>\n",
       "      <td>No</td>\n",
       "      <td>DSL</td>\n",
       "      <td>Yes</td>\n",
       "      <td>...</td>\n",
       "      <td>Yes</td>\n",
       "      <td>No</td>\n",
       "      <td>No</td>\n",
       "      <td>No</td>\n",
       "      <td>One year</td>\n",
       "      <td>No</td>\n",
       "      <td>Mailed check</td>\n",
       "      <td>56.95</td>\n",
       "      <td>1889.50</td>\n",
       "      <td>0</td>\n",
       "    </tr>\n",
       "    <tr>\n",
       "      <th>2</th>\n",
       "      <td>3668-QPYBK</td>\n",
       "      <td>Male</td>\n",
       "      <td>No</td>\n",
       "      <td>No</td>\n",
       "      <td>No</td>\n",
       "      <td>2</td>\n",
       "      <td>Yes</td>\n",
       "      <td>No</td>\n",
       "      <td>DSL</td>\n",
       "      <td>Yes</td>\n",
       "      <td>...</td>\n",
       "      <td>No</td>\n",
       "      <td>No</td>\n",
       "      <td>No</td>\n",
       "      <td>No</td>\n",
       "      <td>Month-to-month</td>\n",
       "      <td>Yes</td>\n",
       "      <td>Mailed check</td>\n",
       "      <td>53.85</td>\n",
       "      <td>108.15</td>\n",
       "      <td>1</td>\n",
       "    </tr>\n",
       "    <tr>\n",
       "      <th>3</th>\n",
       "      <td>7795-CFOCW</td>\n",
       "      <td>Male</td>\n",
       "      <td>No</td>\n",
       "      <td>No</td>\n",
       "      <td>No</td>\n",
       "      <td>45</td>\n",
       "      <td>No</td>\n",
       "      <td>No phone service</td>\n",
       "      <td>DSL</td>\n",
       "      <td>Yes</td>\n",
       "      <td>...</td>\n",
       "      <td>Yes</td>\n",
       "      <td>Yes</td>\n",
       "      <td>No</td>\n",
       "      <td>No</td>\n",
       "      <td>One year</td>\n",
       "      <td>No</td>\n",
       "      <td>Bank transfer (automatic)</td>\n",
       "      <td>42.30</td>\n",
       "      <td>1840.75</td>\n",
       "      <td>0</td>\n",
       "    </tr>\n",
       "    <tr>\n",
       "      <th>4</th>\n",
       "      <td>9237-HQITU</td>\n",
       "      <td>Female</td>\n",
       "      <td>No</td>\n",
       "      <td>No</td>\n",
       "      <td>No</td>\n",
       "      <td>2</td>\n",
       "      <td>Yes</td>\n",
       "      <td>No</td>\n",
       "      <td>Fiber optic</td>\n",
       "      <td>No</td>\n",
       "      <td>...</td>\n",
       "      <td>No</td>\n",
       "      <td>No</td>\n",
       "      <td>No</td>\n",
       "      <td>No</td>\n",
       "      <td>Month-to-month</td>\n",
       "      <td>Yes</td>\n",
       "      <td>Electronic check</td>\n",
       "      <td>70.70</td>\n",
       "      <td>151.65</td>\n",
       "      <td>1</td>\n",
       "    </tr>\n",
       "    <tr>\n",
       "      <th>5</th>\n",
       "      <td>9305-CDSKC</td>\n",
       "      <td>Female</td>\n",
       "      <td>No</td>\n",
       "      <td>No</td>\n",
       "      <td>No</td>\n",
       "      <td>8</td>\n",
       "      <td>Yes</td>\n",
       "      <td>Yes</td>\n",
       "      <td>Fiber optic</td>\n",
       "      <td>No</td>\n",
       "      <td>...</td>\n",
       "      <td>Yes</td>\n",
       "      <td>No</td>\n",
       "      <td>Yes</td>\n",
       "      <td>Yes</td>\n",
       "      <td>Month-to-month</td>\n",
       "      <td>Yes</td>\n",
       "      <td>Electronic check</td>\n",
       "      <td>99.65</td>\n",
       "      <td>820.50</td>\n",
       "      <td>1</td>\n",
       "    </tr>\n",
       "    <tr>\n",
       "      <th>6</th>\n",
       "      <td>1452-KIOVK</td>\n",
       "      <td>Male</td>\n",
       "      <td>No</td>\n",
       "      <td>No</td>\n",
       "      <td>Yes</td>\n",
       "      <td>22</td>\n",
       "      <td>Yes</td>\n",
       "      <td>Yes</td>\n",
       "      <td>Fiber optic</td>\n",
       "      <td>No</td>\n",
       "      <td>...</td>\n",
       "      <td>No</td>\n",
       "      <td>No</td>\n",
       "      <td>Yes</td>\n",
       "      <td>No</td>\n",
       "      <td>Month-to-month</td>\n",
       "      <td>Yes</td>\n",
       "      <td>Credit card (automatic)</td>\n",
       "      <td>89.10</td>\n",
       "      <td>1949.40</td>\n",
       "      <td>0</td>\n",
       "    </tr>\n",
       "    <tr>\n",
       "      <th>7</th>\n",
       "      <td>6713-OKOMC</td>\n",
       "      <td>Female</td>\n",
       "      <td>No</td>\n",
       "      <td>No</td>\n",
       "      <td>No</td>\n",
       "      <td>10</td>\n",
       "      <td>No</td>\n",
       "      <td>No phone service</td>\n",
       "      <td>DSL</td>\n",
       "      <td>Yes</td>\n",
       "      <td>...</td>\n",
       "      <td>No</td>\n",
       "      <td>No</td>\n",
       "      <td>No</td>\n",
       "      <td>No</td>\n",
       "      <td>Month-to-month</td>\n",
       "      <td>No</td>\n",
       "      <td>Mailed check</td>\n",
       "      <td>29.75</td>\n",
       "      <td>301.90</td>\n",
       "      <td>0</td>\n",
       "    </tr>\n",
       "    <tr>\n",
       "      <th>8</th>\n",
       "      <td>7892-POOKP</td>\n",
       "      <td>Female</td>\n",
       "      <td>No</td>\n",
       "      <td>Yes</td>\n",
       "      <td>No</td>\n",
       "      <td>28</td>\n",
       "      <td>Yes</td>\n",
       "      <td>Yes</td>\n",
       "      <td>Fiber optic</td>\n",
       "      <td>No</td>\n",
       "      <td>...</td>\n",
       "      <td>Yes</td>\n",
       "      <td>Yes</td>\n",
       "      <td>Yes</td>\n",
       "      <td>Yes</td>\n",
       "      <td>Month-to-month</td>\n",
       "      <td>Yes</td>\n",
       "      <td>Electronic check</td>\n",
       "      <td>104.80</td>\n",
       "      <td>3046.05</td>\n",
       "      <td>1</td>\n",
       "    </tr>\n",
       "    <tr>\n",
       "      <th>9</th>\n",
       "      <td>6388-TABGU</td>\n",
       "      <td>Male</td>\n",
       "      <td>No</td>\n",
       "      <td>No</td>\n",
       "      <td>Yes</td>\n",
       "      <td>62</td>\n",
       "      <td>Yes</td>\n",
       "      <td>No</td>\n",
       "      <td>DSL</td>\n",
       "      <td>Yes</td>\n",
       "      <td>...</td>\n",
       "      <td>No</td>\n",
       "      <td>No</td>\n",
       "      <td>No</td>\n",
       "      <td>No</td>\n",
       "      <td>One year</td>\n",
       "      <td>No</td>\n",
       "      <td>Bank transfer (automatic)</td>\n",
       "      <td>56.15</td>\n",
       "      <td>3487.95</td>\n",
       "      <td>0</td>\n",
       "    </tr>\n",
       "  </tbody>\n",
       "</table>\n",
       "<p>10 rows × 21 columns</p>\n",
       "</div>"
      ],
      "text/plain": [
       "   customerid  gender seniorcitizen partner dependents  tenure phoneservice  \\\n",
       "0  7590-VHVEG  Female            No     Yes         No       1           No   \n",
       "1  5575-GNVDE    Male            No      No         No      34          Yes   \n",
       "2  3668-QPYBK    Male            No      No         No       2          Yes   \n",
       "3  7795-CFOCW    Male            No      No         No      45           No   \n",
       "4  9237-HQITU  Female            No      No         No       2          Yes   \n",
       "5  9305-CDSKC  Female            No      No         No       8          Yes   \n",
       "6  1452-KIOVK    Male            No      No        Yes      22          Yes   \n",
       "7  6713-OKOMC  Female            No      No         No      10           No   \n",
       "8  7892-POOKP  Female            No     Yes         No      28          Yes   \n",
       "9  6388-TABGU    Male            No      No        Yes      62          Yes   \n",
       "\n",
       "      multiplelines internetservice onlinesecurity  ... deviceprotection  \\\n",
       "0  No phone service             DSL             No  ...               No   \n",
       "1                No             DSL            Yes  ...              Yes   \n",
       "2                No             DSL            Yes  ...               No   \n",
       "3  No phone service             DSL            Yes  ...              Yes   \n",
       "4                No     Fiber optic             No  ...               No   \n",
       "5               Yes     Fiber optic             No  ...              Yes   \n",
       "6               Yes     Fiber optic             No  ...               No   \n",
       "7  No phone service             DSL            Yes  ...               No   \n",
       "8               Yes     Fiber optic             No  ...              Yes   \n",
       "9                No             DSL            Yes  ...               No   \n",
       "\n",
       "  techsupport streamingtv streamingmovies        contract paperlessbilling  \\\n",
       "0          No          No              No  Month-to-month              Yes   \n",
       "1          No          No              No        One year               No   \n",
       "2          No          No              No  Month-to-month              Yes   \n",
       "3         Yes          No              No        One year               No   \n",
       "4          No          No              No  Month-to-month              Yes   \n",
       "5          No         Yes             Yes  Month-to-month              Yes   \n",
       "6          No         Yes              No  Month-to-month              Yes   \n",
       "7          No          No              No  Month-to-month               No   \n",
       "8         Yes         Yes             Yes  Month-to-month              Yes   \n",
       "9          No          No              No        One year               No   \n",
       "\n",
       "               paymentmethod monthlycharges  totalcharges  churn  \n",
       "0           Electronic check          29.85         29.85      0  \n",
       "1               Mailed check          56.95       1889.50      0  \n",
       "2               Mailed check          53.85        108.15      1  \n",
       "3  Bank transfer (automatic)          42.30       1840.75      0  \n",
       "4           Electronic check          70.70        151.65      1  \n",
       "5           Electronic check          99.65        820.50      1  \n",
       "6    Credit card (automatic)          89.10       1949.40      0  \n",
       "7               Mailed check          29.75        301.90      0  \n",
       "8           Electronic check         104.80       3046.05      1  \n",
       "9  Bank transfer (automatic)          56.15       3487.95      0  \n",
       "\n",
       "[10 rows x 21 columns]"
      ]
     },
     "execution_count": 6,
     "metadata": {},
     "output_type": "execute_result"
    }
   ],
   "source": [
    "df.head(10)"
   ]
  },
  {
   "cell_type": "code",
   "execution_count": 7,
   "id": "ed77cc71",
   "metadata": {},
   "outputs": [],
   "source": [
    "def detect_outliers(df, column):\n",
    "    q1 = df[column].quantile(0.25)\n",
    "    q3 = df[column].quantile(0.75)\n",
    "    iqr = q3 - q1\n",
    "    lower_bound = q1 - 1.5 * iqr\n",
    "    upper_bound = q3 + 1.5 * iqr\n",
    "    return lower_bound, upper_bound\n",
    "\n",
    "def cap_outliers(df, col_name, lower_bound, upper_bound):\n",
    "    df[col_name] = np.where(df[col_name] < lower_bound, lower_bound, df[col_name])\n",
    "    df[col_name] = np.where(df[col_name] > upper_bound, upper_bound, df[col_name])\n",
    "    return df"
   ]
  },
  {
   "cell_type": "code",
   "execution_count": 8,
   "id": "24d02204",
   "metadata": {},
   "outputs": [],
   "source": [
    "lower, upper = detect_outliers(df, \"totalcharges\")\n",
    "df = cap_outliers(df, \"totalcharges\", lower, upper)"
   ]
  },
  {
   "cell_type": "code",
   "execution_count": null,
   "id": "251567b7",
   "metadata": {},
   "outputs": [],
   "source": []
  },
  {
   "cell_type": "code",
   "execution_count": 9,
   "id": "2ad446da",
   "metadata": {},
   "outputs": [],
   "source": [
    "string_cols = [col for col in df.columns if df[col].dtype == \"object\"]\n",
    "numeric_cols = [col for col in df.select_dtypes(include=np.number).columns if col != \"churn\"]\n",
    "features = string_cols + numeric_cols"
   ]
  },
  {
   "cell_type": "code",
   "execution_count": 10,
   "id": "276f61fb",
   "metadata": {},
   "outputs": [],
   "source": [
    "X = df[features]\n",
    "y = df[\"churn\"]"
   ]
  },
  {
   "cell_type": "code",
   "execution_count": 11,
   "id": "18586c1b",
   "metadata": {},
   "outputs": [],
   "source": [
    "X_train, X_test, y_train, y_test = train_test_split(X, y, test_size=0.2, random_state=42)"
   ]
  },
  {
   "cell_type": "code",
   "execution_count": 13,
   "id": "4157c2d4",
   "metadata": {},
   "outputs": [],
   "source": [
    "preprocessor = ColumnTransformer(\n",
    "    [\n",
    "        (\"ohe\", OneHotEncoder(handle_unknown=\"ignore\", sparse=False), string_cols),\n",
    "        (\"sc\", StandardScaler(), numeric_cols),\n",
    "    ]\n",
    ")"
   ]
  },
  {
   "cell_type": "code",
   "execution_count": 14,
   "id": "54ddac65",
   "metadata": {},
   "outputs": [],
   "source": [
    "clf = Pipeline(\n",
    "    [\n",
    "        (\"prep\", preprocessor),\n",
    "        (\"rf\", RandomForestClassifier(random_state= 42 , class_weight= \"balanced\"))\n",
    "    ]\n",
    ")"
   ]
  },
  {
   "cell_type": "code",
   "execution_count": 16,
   "id": "83924bfd",
   "metadata": {},
   "outputs": [],
   "source": [
    "model = Pipeline([\n",
    "    (\"prep\", preprocessor),\n",
    "    (\"rf\", RandomForestClassifier(random_state=42, class_weight=\"balanced\"))\n",
    "])"
   ]
  },
  {
   "cell_type": "code",
   "execution_count": 17,
   "id": "d4ceb863",
   "metadata": {},
   "outputs": [
    {
     "data": {
      "text/plain": [
       "Pipeline(steps=[('prep',\n",
       "                 ColumnTransformer(transformers=[('ohe',\n",
       "                                                  OneHotEncoder(handle_unknown='ignore',\n",
       "                                                                sparse=False),\n",
       "                                                  ['customerid', 'gender',\n",
       "                                                   'seniorcitizen', 'partner',\n",
       "                                                   'dependents', 'phoneservice',\n",
       "                                                   'multiplelines',\n",
       "                                                   'internetservice',\n",
       "                                                   'onlinesecurity',\n",
       "                                                   'onlinebackup',\n",
       "                                                   'deviceprotection',\n",
       "                                                   'techsupport', 'streamingtv',\n",
       "                                                   'streamingmovies',\n",
       "                                                   'contract',\n",
       "                                                   'paperlessbilling',\n",
       "                                                   'paymentmethod']),\n",
       "                                                 ('sc', StandardScaler(),\n",
       "                                                  ['tenure', 'monthlycharges',\n",
       "                                                   'totalcharges'])])),\n",
       "                ('rf',\n",
       "                 RandomForestClassifier(class_weight='balanced',\n",
       "                                        random_state=42))])"
      ]
     },
     "execution_count": 17,
     "metadata": {},
     "output_type": "execute_result"
    }
   ],
   "source": [
    "model.fit(X_train, y_train)"
   ]
  },
  {
   "cell_type": "code",
   "execution_count": 18,
   "id": "b930af88",
   "metadata": {},
   "outputs": [],
   "source": [
    "y_pred = model.predict(X_test)"
   ]
  },
  {
   "cell_type": "code",
   "execution_count": 20,
   "id": "aceb4c7e",
   "metadata": {},
   "outputs": [
    {
     "name": "stdout",
     "output_type": "stream",
     "text": [
      "\n",
      "✅ Accuracy: 0.7991\n",
      "\n",
      "📊 Classification Report:\n",
      "               precision    recall  f1-score   support\n",
      "\n",
      "           0     0.8329    0.9093    0.8694      1036\n",
      "           1     0.6619    0.4933    0.5653       373\n",
      "\n",
      "    accuracy                         0.7991      1409\n",
      "   macro avg     0.7474    0.7013    0.7173      1409\n",
      "weighted avg     0.7876    0.7991    0.7889      1409\n",
      "\n",
      "\n",
      "📉 Confusion Matrix:\n",
      " [[942  94]\n",
      " [189 184]]\n"
     ]
    }
   ],
   "source": [
    "from sklearn.metrics import accuracy_score, classification_report, confusion_matrix\n",
    "print(\"\\n✅ Accuracy:\", round(accuracy_score(y_test, y_pred), 4))\n",
    "print(\"\\n📊 Classification Report:\\n\", classification_report(y_test, y_pred, digits=4))\n",
    "print(\"\\n📉 Confusion Matrix:\\n\", confusion_matrix(y_test, y_pred))"
   ]
  },
  {
   "cell_type": "code",
   "execution_count": null,
   "id": "2ce8393d",
   "metadata": {},
   "outputs": [],
   "source": []
  }
 ],
 "metadata": {
  "kernelspec": {
   "display_name": "Python 3",
   "language": "python",
   "name": "python3"
  }
 },
 "nbformat": 4,
 "nbformat_minor": 5
}
