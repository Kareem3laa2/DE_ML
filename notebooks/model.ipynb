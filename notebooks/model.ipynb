{
 "cells": [
  {
   "cell_type": "code",
   "execution_count": 42,
   "id": "ddb73e7a",
   "metadata": {},
   "outputs": [],
   "source": [
    "from pyspark.sql import SparkSession\n",
    "from pyspark.sql.functions import *\n",
    "from pyspark.ml.feature import StringIndexer, VectorAssembler, StandardScaler, OneHotEncoder\n",
    "from pyspark.ml import Pipeline\n",
    "from pyspark.ml.classification import LogisticRegression, RandomForestClassifier\n",
    "from pyspark.ml.evaluation import BinaryClassificationEvaluator, MulticlassClassificationEvaluator\n",
    "import pandas as pd\n",
    "\n"
   ]
  },
  {
   "cell_type": "code",
   "execution_count": 43,
   "id": "2b6a2efb",
   "metadata": {},
   "outputs": [],
   "source": [
    "spark = SparkSession.builder \\\n",
    "    .appName(\"ChurnModelTraining\") \\\n",
    "    .master(\"spark://spark-master:7077\") \\\n",
    "    .getOrCreate()"
   ]
  },
  {
   "cell_type": "code",
   "execution_count": 44,
   "id": "235863f4",
   "metadata": {},
   "outputs": [],
   "source": [
    "df = spark.read.parquet(\"hdfs://namenode:8020/user/telco/cleaned/telco_cleaned.parquet\")"
   ]
  },
  {
   "cell_type": "code",
   "execution_count": null,
   "id": "ba9c93c2",
   "metadata": {},
   "outputs": [],
   "source": []
  },
  {
   "cell_type": "code",
   "execution_count": 45,
   "id": "3de8f2e7",
   "metadata": {},
   "outputs": [
    {
     "name": "stdout",
     "output_type": "stream",
     "text": [
      "root\n",
      " |-- customerid: string (nullable = true)\n",
      " |-- gender: string (nullable = true)\n",
      " |-- seniorcitizen: string (nullable = true)\n",
      " |-- partner: string (nullable = true)\n",
      " |-- dependents: string (nullable = true)\n",
      " |-- tenure: integer (nullable = true)\n",
      " |-- phoneservice: string (nullable = true)\n",
      " |-- multiplelines: string (nullable = true)\n",
      " |-- internetservice: string (nullable = true)\n",
      " |-- onlinesecurity: string (nullable = true)\n",
      " |-- onlinebackup: string (nullable = true)\n",
      " |-- deviceprotection: string (nullable = true)\n",
      " |-- techsupport: string (nullable = true)\n",
      " |-- streamingtv: string (nullable = true)\n",
      " |-- streamingmovies: string (nullable = true)\n",
      " |-- contract: string (nullable = true)\n",
      " |-- paperlessbilling: string (nullable = true)\n",
      " |-- paymentmethod: string (nullable = true)\n",
      " |-- monthlycharges: double (nullable = true)\n",
      " |-- totalcharges: double (nullable = true)\n",
      " |-- churn: integer (nullable = true)\n",
      "\n"
     ]
    }
   ],
   "source": [
    "df.printSchema()"
   ]
  },
  {
   "cell_type": "code",
   "execution_count": 46,
   "id": "b6f15960",
   "metadata": {},
   "outputs": [],
   "source": [
    "df_pandas = df.toPandas()"
   ]
  },
  {
   "cell_type": "code",
   "execution_count": 47,
   "id": "3718dbf7",
   "metadata": {},
   "outputs": [
    {
     "data": {
      "text/html": [
       "<div>\n",
       "<style scoped>\n",
       "    .dataframe tbody tr th:only-of-type {\n",
       "        vertical-align: middle;\n",
       "    }\n",
       "\n",
       "    .dataframe tbody tr th {\n",
       "        vertical-align: top;\n",
       "    }\n",
       "\n",
       "    .dataframe thead th {\n",
       "        text-align: right;\n",
       "    }\n",
       "</style>\n",
       "<table border=\"1\" class=\"dataframe\">\n",
       "  <thead>\n",
       "    <tr style=\"text-align: right;\">\n",
       "      <th></th>\n",
       "      <th>churn</th>\n",
       "    </tr>\n",
       "  </thead>\n",
       "  <tbody>\n",
       "    <tr>\n",
       "      <th>0</th>\n",
       "      <td>0</td>\n",
       "    </tr>\n",
       "    <tr>\n",
       "      <th>1</th>\n",
       "      <td>0</td>\n",
       "    </tr>\n",
       "    <tr>\n",
       "      <th>2</th>\n",
       "      <td>1</td>\n",
       "    </tr>\n",
       "    <tr>\n",
       "      <th>3</th>\n",
       "      <td>0</td>\n",
       "    </tr>\n",
       "    <tr>\n",
       "      <th>4</th>\n",
       "      <td>1</td>\n",
       "    </tr>\n",
       "    <tr>\n",
       "      <th>...</th>\n",
       "      <td>...</td>\n",
       "    </tr>\n",
       "    <tr>\n",
       "      <th>7038</th>\n",
       "      <td>0</td>\n",
       "    </tr>\n",
       "    <tr>\n",
       "      <th>7039</th>\n",
       "      <td>0</td>\n",
       "    </tr>\n",
       "    <tr>\n",
       "      <th>7040</th>\n",
       "      <td>0</td>\n",
       "    </tr>\n",
       "    <tr>\n",
       "      <th>7041</th>\n",
       "      <td>1</td>\n",
       "    </tr>\n",
       "    <tr>\n",
       "      <th>7042</th>\n",
       "      <td>0</td>\n",
       "    </tr>\n",
       "  </tbody>\n",
       "</table>\n",
       "<p>7043 rows × 1 columns</p>\n",
       "</div>"
      ],
      "text/plain": [
       "      churn\n",
       "0         0\n",
       "1         0\n",
       "2         1\n",
       "3         0\n",
       "4         1\n",
       "...     ...\n",
       "7038      0\n",
       "7039      0\n",
       "7040      0\n",
       "7041      1\n",
       "7042      0\n",
       "\n",
       "[7043 rows x 1 columns]"
      ]
     },
     "execution_count": 47,
     "metadata": {},
     "output_type": "execute_result"
    }
   ],
   "source": [
    "df_pandas[['churn']]"
   ]
  },
  {
   "cell_type": "code",
   "execution_count": 48,
   "id": "28f6b3c9",
   "metadata": {},
   "outputs": [
    {
     "data": {
      "text/html": [
       "<div>\n",
       "<style scoped>\n",
       "    .dataframe tbody tr th:only-of-type {\n",
       "        vertical-align: middle;\n",
       "    }\n",
       "\n",
       "    .dataframe tbody tr th {\n",
       "        vertical-align: top;\n",
       "    }\n",
       "\n",
       "    .dataframe thead th {\n",
       "        text-align: right;\n",
       "    }\n",
       "</style>\n",
       "<table border=\"1\" class=\"dataframe\">\n",
       "  <thead>\n",
       "    <tr style=\"text-align: right;\">\n",
       "      <th></th>\n",
       "      <th>tenure</th>\n",
       "      <th>monthlycharges</th>\n",
       "      <th>totalcharges</th>\n",
       "      <th>churn</th>\n",
       "    </tr>\n",
       "  </thead>\n",
       "  <tbody>\n",
       "    <tr>\n",
       "      <th>tenure</th>\n",
       "      <td>1.000000</td>\n",
       "      <td>0.247900</td>\n",
       "      <td>0.828025</td>\n",
       "      <td>-0.352229</td>\n",
       "    </tr>\n",
       "    <tr>\n",
       "      <th>monthlycharges</th>\n",
       "      <td>0.247900</td>\n",
       "      <td>1.000000</td>\n",
       "      <td>0.651139</td>\n",
       "      <td>0.193356</td>\n",
       "    </tr>\n",
       "    <tr>\n",
       "      <th>totalcharges</th>\n",
       "      <td>0.828025</td>\n",
       "      <td>0.651139</td>\n",
       "      <td>1.000000</td>\n",
       "      <td>-0.198342</td>\n",
       "    </tr>\n",
       "    <tr>\n",
       "      <th>churn</th>\n",
       "      <td>-0.352229</td>\n",
       "      <td>0.193356</td>\n",
       "      <td>-0.198342</td>\n",
       "      <td>1.000000</td>\n",
       "    </tr>\n",
       "  </tbody>\n",
       "</table>\n",
       "</div>"
      ],
      "text/plain": [
       "                  tenure  monthlycharges  totalcharges     churn\n",
       "tenure          1.000000        0.247900      0.828025 -0.352229\n",
       "monthlycharges  0.247900        1.000000      0.651139  0.193356\n",
       "totalcharges    0.828025        0.651139      1.000000 -0.198342\n",
       "churn          -0.352229        0.193356     -0.198342  1.000000"
      ]
     },
     "execution_count": 48,
     "metadata": {},
     "output_type": "execute_result"
    }
   ],
   "source": [
    "df_pandas.corr()"
   ]
  },
  {
   "cell_type": "code",
   "execution_count": 49,
   "id": "68c3d266",
   "metadata": {},
   "outputs": [
    {
     "data": {
      "text/plain": [
       "customerid          0\n",
       "gender              0\n",
       "seniorcitizen       0\n",
       "partner             0\n",
       "dependents          0\n",
       "tenure              0\n",
       "phoneservice        0\n",
       "multiplelines       0\n",
       "internetservice     0\n",
       "onlinesecurity      0\n",
       "onlinebackup        0\n",
       "deviceprotection    0\n",
       "techsupport         0\n",
       "streamingtv         0\n",
       "streamingmovies     0\n",
       "contract            0\n",
       "paperlessbilling    0\n",
       "paymentmethod       0\n",
       "monthlycharges      0\n",
       "totalcharges        0\n",
       "churn               0\n",
       "dtype: int64"
      ]
     },
     "execution_count": 49,
     "metadata": {},
     "output_type": "execute_result"
    }
   ],
   "source": [
    "df_pandas.isnull().sum()"
   ]
  },
  {
   "cell_type": "code",
   "execution_count": 50,
   "id": "9b0a8d7e",
   "metadata": {},
   "outputs": [],
   "source": [
    "# df = df.withColumn(\"churn\", when(col(\"churn\") == \"Yes\", 1).otherwise(0))"
   ]
  },
  {
   "cell_type": "code",
   "execution_count": 51,
   "id": "e39467d9",
   "metadata": {},
   "outputs": [],
   "source": [
    "df_pandas = df.toPandas()"
   ]
  },
  {
   "cell_type": "code",
   "execution_count": 56,
   "id": "d4defaf3",
   "metadata": {},
   "outputs": [
    {
     "data": {
      "text/plain": [
       "0    5174\n",
       "1    1869\n",
       "Name: churn, dtype: int64"
      ]
     },
     "execution_count": 56,
     "metadata": {},
     "output_type": "execute_result"
    }
   ],
   "source": [
    "df_pandas[\"churn\"].value_counts()"
   ]
  },
  {
   "cell_type": "markdown",
   "id": "85da3acb",
   "metadata": {},
   "source": [
    "## We Want to detect the outliers"
   ]
  },
  {
   "cell_type": "code",
   "execution_count": 57,
   "id": "7fd2b8d2",
   "metadata": {},
   "outputs": [],
   "source": [
    "def detect_outliers(df, column):\n",
    "    quantiles = df.approxQuantile(column, [0.25, 0.75], 0.05)\n",
    "    Q1 = quantiles[0]\n",
    "    Q3 = quantiles[1]\n",
    "    IQR = Q3 - Q1\n",
    "    lower_bound = Q1 - 1.5 * IQR\n",
    "    upper_bound = Q3 + 1.5 * IQR\n",
    "    outliers = df.filter((col(column) < lower_bound) | (col(column) > upper_bound)) \n",
    "    print(f\"Number of outliers in {column}: {outliers.count()}\")\n",
    "    return lower_bound, upper_bound\n"
   ]
  },
  {
   "cell_type": "code",
   "execution_count": 58,
   "id": "d29f1592",
   "metadata": {},
   "outputs": [
    {
     "name": "stdout",
     "output_type": "stream",
     "text": [
      "Number of outliers in totalcharges: 0\n"
     ]
    }
   ],
   "source": [
    "t_lower_bound, t_upper_bound = detect_outliers(df , \"totalcharges\")"
   ]
  },
  {
   "cell_type": "code",
   "execution_count": 59,
   "id": "106fb0de",
   "metadata": {},
   "outputs": [
    {
     "name": "stdout",
     "output_type": "stream",
     "text": [
      "Number of outliers in monthlycharges: 0\n"
     ]
    },
    {
     "data": {
      "text/plain": [
       "(-31.250000000000007, 157.15)"
      ]
     },
     "execution_count": 59,
     "metadata": {},
     "output_type": "execute_result"
    }
   ],
   "source": [
    "detect_outliers(df , \"monthlycharges\")"
   ]
  },
  {
   "cell_type": "code",
   "execution_count": 60,
   "id": "b73b99f8",
   "metadata": {},
   "outputs": [
    {
     "name": "stdout",
     "output_type": "stream",
     "text": [
      "Number of outliers in tenure: 0\n"
     ]
    },
    {
     "data": {
      "text/plain": [
       "(-55.5, 116.5)"
      ]
     },
     "execution_count": 60,
     "metadata": {},
     "output_type": "execute_result"
    }
   ],
   "source": [
    "detect_outliers(df , \"tenure\")"
   ]
  },
  {
   "cell_type": "code",
   "execution_count": 61,
   "id": "012e3657",
   "metadata": {},
   "outputs": [],
   "source": [
    "def cap_outliers(df, col_name, lower_bound, upper_bound):\n",
    "    return df.withColumn(\n",
    "        col_name,\n",
    "        when(col(col_name) < lower_bound, lower_bound)\n",
    "        .when(col(col_name) > upper_bound, upper_bound)\n",
    "        .otherwise(col(col_name))\n",
    "    )"
   ]
  },
  {
   "cell_type": "code",
   "execution_count": 62,
   "id": "d5ffaba8",
   "metadata": {},
   "outputs": [],
   "source": [
    "df = cap_outliers(df, \"totalcharges\", t_lower_bound, t_upper_bound)"
   ]
  },
  {
   "cell_type": "code",
   "execution_count": 63,
   "id": "3da43269",
   "metadata": {},
   "outputs": [
    {
     "name": "stdout",
     "output_type": "stream",
     "text": [
      "Number of outliers in totalcharges: 0\n"
     ]
    },
    {
     "data": {
      "text/plain": [
       "(-3927.1499999999996, 7662.049999999999)"
      ]
     },
     "execution_count": 63,
     "metadata": {},
     "output_type": "execute_result"
    }
   ],
   "source": [
    "detect_outliers(df , \"totalcharges\")"
   ]
  },
  {
   "cell_type": "markdown",
   "id": "263c8ed7",
   "metadata": {},
   "source": [
    "## Outliers removed (winsorizing)"
   ]
  },
  {
   "cell_type": "markdown",
   "id": "5c836169",
   "metadata": {},
   "source": [
    "## Split the data"
   ]
  },
  {
   "cell_type": "code",
   "execution_count": 64,
   "id": "49a71a62",
   "metadata": {},
   "outputs": [],
   "source": [
    "train_data, test_data = df.randomSplit([0.8, 0.2], seed=42)"
   ]
  },
  {
   "cell_type": "code",
   "execution_count": 65,
   "id": "02943641",
   "metadata": {},
   "outputs": [
    {
     "data": {
      "text/plain": [
       "[('customerid', 'string'),\n",
       " ('gender', 'string'),\n",
       " ('seniorcitizen', 'string'),\n",
       " ('partner', 'string'),\n",
       " ('dependents', 'string'),\n",
       " ('tenure', 'int'),\n",
       " ('phoneservice', 'string'),\n",
       " ('multiplelines', 'string'),\n",
       " ('internetservice', 'string'),\n",
       " ('onlinesecurity', 'string'),\n",
       " ('onlinebackup', 'string'),\n",
       " ('deviceprotection', 'string'),\n",
       " ('techsupport', 'string'),\n",
       " ('streamingtv', 'string'),\n",
       " ('streamingmovies', 'string'),\n",
       " ('contract', 'string'),\n",
       " ('paperlessbilling', 'string'),\n",
       " ('paymentmethod', 'string'),\n",
       " ('monthlycharges', 'double'),\n",
       " ('totalcharges', 'double'),\n",
       " ('churn', 'int')]"
      ]
     },
     "execution_count": 65,
     "metadata": {},
     "output_type": "execute_result"
    }
   ],
   "source": [
    "trainCols = train_data.dtypes\n",
    "train_data.dtypes"
   ]
  },
  {
   "cell_type": "code",
   "execution_count": 66,
   "id": "31f889ad",
   "metadata": {},
   "outputs": [],
   "source": [
    "stringCols = [f for (f , v) in trainCols if v == \"string\" and f not in  [\"customerid\" , \"streamingmovies\", \"deviceprotection\", \"streamingtv\", \"paymentmethod\"]]"
   ]
  },
  {
   "cell_type": "code",
   "execution_count": 67,
   "id": "e7178ccd",
   "metadata": {},
   "outputs": [],
   "source": [
    "numericCols = [f for (f, v) in trainCols if ((v == \"double\") & (f != \"churn\"))]"
   ]
  },
  {
   "cell_type": "code",
   "execution_count": 68,
   "id": "0091fe1a",
   "metadata": {},
   "outputs": [
    {
     "data": {
      "text/plain": [
       "['gender_index',\n",
       " 'seniorcitizen_index',\n",
       " 'partner_index',\n",
       " 'dependents_index',\n",
       " 'phoneservice_index',\n",
       " 'multiplelines_index',\n",
       " 'internetservice_index',\n",
       " 'onlinesecurity_index',\n",
       " 'onlinebackup_index',\n",
       " 'techsupport_index',\n",
       " 'contract_index',\n",
       " 'paperlessbilling_index']"
      ]
     },
     "execution_count": 68,
     "metadata": {},
     "output_type": "execute_result"
    }
   ],
   "source": [
    "strIndexCols = [col+\"_index\" for col in stringCols]\n",
    "strIndexCols"
   ]
  },
  {
   "cell_type": "code",
   "execution_count": 69,
   "id": "7f22e4d4",
   "metadata": {},
   "outputs": [
    {
     "data": {
      "text/plain": [
       "['gender_ohe',\n",
       " 'seniorcitizen_ohe',\n",
       " 'partner_ohe',\n",
       " 'dependents_ohe',\n",
       " 'phoneservice_ohe',\n",
       " 'multiplelines_ohe',\n",
       " 'internetservice_ohe',\n",
       " 'onlinesecurity_ohe',\n",
       " 'onlinebackup_ohe',\n",
       " 'techsupport_ohe',\n",
       " 'contract_ohe',\n",
       " 'paperlessbilling_ohe']"
      ]
     },
     "execution_count": 69,
     "metadata": {},
     "output_type": "execute_result"
    }
   ],
   "source": [
    "oheCols = [col+\"_ohe\" for col in stringCols]\n",
    "oheCols"
   ]
  },
  {
   "cell_type": "code",
   "execution_count": 70,
   "id": "3302dc04",
   "metadata": {},
   "outputs": [],
   "source": [
    "allDataCols = oheCols + numericCols "
   ]
  },
  {
   "cell_type": "code",
   "execution_count": 71,
   "id": "88cfe531",
   "metadata": {},
   "outputs": [],
   "source": [
    "indexers = [StringIndexer(inputCol=col, outputCol=col+\"_index\", handleInvalid='keep') for col in stringCols]\n",
    "\n",
    "ohe = OneHotEncoder(inputCols=strIndexCols, outputCols=oheCols)\n",
    "\n",
    "assembler = VectorAssembler(inputCols=allDataCols, outputCol=\"features_unscaled\")\n",
    "\n",
    "scaler = StandardScaler(inputCol=\"features_unscaled\", outputCol=\"features\")\n",
    "\n",
    "lr = LogisticRegression(featuresCol=\"features\" , labelCol=\"churn\",predictionCol=\"churnPrediction\")"
   ]
  },
  {
   "cell_type": "code",
   "execution_count": 72,
   "id": "f8e2fe45",
   "metadata": {},
   "outputs": [],
   "source": [
    "pipeline = Pipeline(stages = indexers +  [ohe ,  assembler  , scaler , lr])\n",
    "\n",
    "pipeline_model = pipeline.fit(train_data)"
   ]
  },
  {
   "cell_type": "code",
   "execution_count": 73,
   "id": "c832eb48",
   "metadata": {},
   "outputs": [],
   "source": [
    "predictions = pipeline_model.transform(test_data)"
   ]
  },
  {
   "cell_type": "code",
   "execution_count": 74,
   "id": "c8966e09",
   "metadata": {},
   "outputs": [
    {
     "name": "stdout",
     "output_type": "stream",
     "text": [
      "AUC-ROC: 0.8322\n"
     ]
    }
   ],
   "source": [
    "evaluator = BinaryClassificationEvaluator(\n",
    "    labelCol=\"churn\", rawPredictionCol=\"rawPrediction\", metricName=\"areaUnderROC\"\n",
    ")\n",
    "\n",
    "auc = evaluator.evaluate(predictions)\n",
    "print(f\"AUC-ROC: {auc:.4f}\")"
   ]
  },
  {
   "cell_type": "code",
   "execution_count": 75,
   "id": "de0aaf4a",
   "metadata": {},
   "outputs": [
    {
     "name": "stdout",
     "output_type": "stream",
     "text": [
      "Precision: 0.8381\n",
      "Recall:    0.9068\n",
      "F1 Score:  0.7972\n"
     ]
    }
   ],
   "source": [
    "precision_evaluator = MulticlassClassificationEvaluator(\n",
    "    labelCol=\"churn\", predictionCol=\"churnPrediction\", metricName=\"precisionByLabel\"\n",
    ")\n",
    "recall_evaluator = MulticlassClassificationEvaluator(\n",
    "    labelCol=\"churn\", predictionCol=\"churnPrediction\", metricName=\"recallByLabel\"\n",
    ")\n",
    "f1_evaluator = MulticlassClassificationEvaluator(\n",
    "    labelCol=\"churn\", predictionCol=\"churnPrediction\", metricName=\"f1\"\n",
    ")\n",
    "\n",
    "precision = precision_evaluator.evaluate(predictions)\n",
    "recall = recall_evaluator.evaluate(predictions)\n",
    "f1 = f1_evaluator.evaluate(predictions)\n",
    "\n",
    "print(f\"Precision: {precision:.4f}\")\n",
    "print(f\"Recall:    {recall:.4f}\")\n",
    "print(f\"F1 Score:  {f1:.4f}\")"
   ]
  },
  {
   "cell_type": "code",
   "execution_count": 76,
   "id": "bc179111",
   "metadata": {},
   "outputs": [
    {
     "name": "stdout",
     "output_type": "stream",
     "text": [
      "totalcharges                  : 0.0244\n",
      "techsupport_ohe               : 0.0117\n",
      "monthlycharges                : 0.0117\n",
      "internetservice_ohe           : -0.0166\n",
      "dependents_ohe                : -0.0299\n",
      "paperlessbilling_ohe          : -0.0337\n",
      "phoneservice_ohe              : -0.0415\n",
      "seniorcitizen_ohe             : -0.0532\n",
      "gender_ohe                    : -0.0618\n",
      "multiplelines_ohe             : -0.0736\n",
      "contract_ohe                  : -0.0887\n",
      "onlinesecurity_ohe            : -0.1089\n",
      "partner_ohe                   : -0.1266\n",
      "onlinebackup_ohe              : -0.2068\n"
     ]
    }
   ],
   "source": [
    "lr_model = pipeline_model.stages[-1]  # last stage is RandomForestClassifier\n",
    "importances = lr_model.coefficients.toArray()\n",
    "features = pipeline_model.stages[-3].getInputCols()  # VectorAssembler input features\n",
    "\n",
    "# Zip and sort\n",
    "importance = sorted(zip(features, importances), key=lambda x: x[1], reverse=True)\n",
    "\n",
    "# Print feature importance\n",
    "for feature, score in importance:\n",
    "    print(f\"{feature:30s}: {score:.4f}\")"
   ]
  },
  {
   "cell_type": "markdown",
   "id": "502178c9",
   "metadata": {},
   "source": [
    "## Try a new pipeline with RandomForest"
   ]
  },
  {
   "cell_type": "code",
   "execution_count": 77,
   "id": "c1d6a57a",
   "metadata": {},
   "outputs": [],
   "source": [
    "indexers = [StringIndexer(inputCol=col, outputCol=col+\"_index\", handleInvalid='keep') for col in stringCols]\n",
    "\n",
    "ohe = OneHotEncoder(inputCols=strIndexCols, outputCols=oheCols)\n",
    "\n",
    "assembler = VectorAssembler(inputCols=allDataCols, outputCol=\"features_unscaled\")\n",
    "\n",
    "scaler = StandardScaler(inputCol=\"features_unscaled\", outputCol=\"features\")\n",
    "\n",
    "rf = RandomForestClassifier(featuresCol=\"features\" , labelCol=\"churn\",predictionCol=\"churnPrediction\")"
   ]
  },
  {
   "cell_type": "code",
   "execution_count": 78,
   "id": "0caee2bd",
   "metadata": {},
   "outputs": [],
   "source": [
    "pipeline = Pipeline(stages = indexers +  [ohe ,  assembler  , scaler , rf])\n",
    "\n",
    "pipeline_model = pipeline.fit(train_data)"
   ]
  },
  {
   "cell_type": "code",
   "execution_count": 79,
   "id": "f94fa8f4",
   "metadata": {},
   "outputs": [],
   "source": [
    "predictions = pipeline_model.transform(test_data)"
   ]
  },
  {
   "cell_type": "code",
   "execution_count": 80,
   "id": "fde8511e",
   "metadata": {},
   "outputs": [
    {
     "name": "stdout",
     "output_type": "stream",
     "text": [
      "AUC-ROC: 0.8299\n"
     ]
    }
   ],
   "source": [
    "evaluator = BinaryClassificationEvaluator(\n",
    "    labelCol=\"churn\", rawPredictionCol=\"rawPrediction\", metricName=\"areaUnderROC\"\n",
    ")\n",
    "\n",
    "auc = evaluator.evaluate(predictions)\n",
    "print(f\"AUC-ROC: {auc:.4f}\")"
   ]
  },
  {
   "cell_type": "code",
   "execution_count": 81,
   "id": "80eb9bb4",
   "metadata": {},
   "outputs": [
    {
     "name": "stdout",
     "output_type": "stream",
     "text": [
      "Precision: 0.7911\n",
      "Recall:    0.9508\n",
      "F1 Score:  0.7525\n"
     ]
    }
   ],
   "source": [
    "precision_evaluator = MulticlassClassificationEvaluator(\n",
    "    labelCol=\"churn\", predictionCol=\"churnPrediction\", metricName=\"precisionByLabel\"\n",
    ")\n",
    "recall_evaluator = MulticlassClassificationEvaluator(\n",
    "    labelCol=\"churn\", predictionCol=\"churnPrediction\", metricName=\"recallByLabel\"\n",
    ")\n",
    "f1_evaluator = MulticlassClassificationEvaluator(\n",
    "    labelCol=\"churn\", predictionCol=\"churnPrediction\", metricName=\"f1\"\n",
    ")\n",
    "\n",
    "precision = precision_evaluator.evaluate(predictions)\n",
    "recall = recall_evaluator.evaluate(predictions)\n",
    "f1 = f1_evaluator.evaluate(predictions)\n",
    "\n",
    "print(f\"Precision: {precision:.4f}\")\n",
    "print(f\"Recall:    {recall:.4f}\")\n",
    "print(f\"F1 Score:  {f1:.4f}\")"
   ]
  },
  {
   "cell_type": "code",
   "execution_count": 82,
   "id": "70ac8097",
   "metadata": {},
   "outputs": [
    {
     "name": "stdout",
     "output_type": "stream",
     "text": [
      "totalcharges                  : 0.0926\n",
      "partner_ohe                   : 0.0044\n",
      "multiplelines_ohe             : 0.0038\n",
      "phoneservice_ohe              : 0.0027\n",
      "onlinesecurity_ohe            : 0.0025\n",
      "dependents_ohe                : 0.0021\n",
      "techsupport_ohe               : 0.0014\n",
      "internetservice_ohe           : 0.0011\n",
      "gender_ohe                    : 0.0008\n",
      "seniorcitizen_ohe             : 0.0005\n",
      "monthlycharges                : 0.0001\n",
      "paperlessbilling_ohe          : 0.0000\n",
      "onlinebackup_ohe              : 0.0000\n",
      "contract_ohe                  : 0.0000\n"
     ]
    }
   ],
   "source": [
    "rf_model = pipeline_model.stages[-1]  # last stage is RandomForestClassifier\n",
    "importances = rf_model.featureImportances.toArray()\n",
    "features = pipeline_model.stages[-3].getInputCols()  # VectorAssembler input features\n",
    "\n",
    "# Zip and sort\n",
    "importance = sorted(zip(features, importances), key=lambda x: x[1], reverse=True)\n",
    "\n",
    "# Print feature importance\n",
    "for feature, score in importance:\n",
    "    print(f\"{feature:30s}: {score:.4f}\")\n"
   ]
  },
  {
   "cell_type": "code",
   "execution_count": 83,
   "id": "592a86b9",
   "metadata": {},
   "outputs": [
    {
     "name": "stdout",
     "output_type": "stream",
     "text": [
      "+----------+-----+---------------+\n",
      "|customerid|churn|churnPrediction|\n",
      "+----------+-----+---------------+\n",
      "|0004-TLHLJ|    1|            1.0|\n",
      "|0013-SMEOE|    0|            0.0|\n",
      "|0015-UOCOJ|    0|            0.0|\n",
      "|0019-EFAEP|    0|            0.0|\n",
      "|0023-HGHWL|    1|            0.0|\n",
      "+----------+-----+---------------+\n",
      "only showing top 5 rows\n",
      "\n"
     ]
    }
   ],
   "source": [
    "predictions.select(\"customerid\", \"churn\", \"churnPrediction\").show(5)"
   ]
  },
  {
   "cell_type": "markdown",
   "id": "f1bf59f8",
   "metadata": {},
   "source": [
    "## The `logisiticRegression` model is more balanced than the `RandomForest`"
   ]
  },
  {
   "cell_type": "code",
   "execution_count": null,
   "id": "12e47966",
   "metadata": {},
   "outputs": [],
   "source": []
  }
 ],
 "metadata": {
  "kernelspec": {
   "display_name": "Python 3",
   "language": "python",
   "name": "python3"
  },
  "language_info": {
   "codemirror_mode": {
    "name": "ipython",
    "version": 3
   },
   "file_extension": ".py",
   "mimetype": "text/x-python",
   "name": "python",
   "nbconvert_exporter": "python",
   "pygments_lexer": "ipython3",
   "version": "3.9.4"
  }
 },
 "nbformat": 4,
 "nbformat_minor": 5
}
