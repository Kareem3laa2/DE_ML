{
 "cells": [
  {
   "cell_type": "markdown",
   "id": "cb37ffab",
   "metadata": {},
   "source": [
    "## Accuracy - Completnes - Validity - Timelines - Consistency - Uniqunes - Completnes"
   ]
  },
  {
   "cell_type": "code",
   "execution_count": 3,
   "id": "f39861f3-a918-46e1-8cb5-e56ec9b14158",
   "metadata": {},
   "outputs": [],
   "source": [
    "from pyspark.sql import SparkSession\n",
    "\n",
    "spark = SparkSession.builder \\\n",
    "    .appName(\"DataExplorations\") \\\n",
    "    .master(\"spark://spark-master:7077\") \\\n",
    "    .getOrCreate()\n",
    "\n",
    "\n",
    "\n",
    "\n",
    "    "
   ]
  },
  {
   "cell_type": "code",
   "execution_count": 4,
   "id": "a176b959",
   "metadata": {},
   "outputs": [
    {
     "ename": "KeyboardInterrupt",
     "evalue": "",
     "output_type": "error",
     "traceback": [
      "\u001b[0;31m---------------------------------------------------------------------------\u001b[0m",
      "\u001b[0;31mKeyboardInterrupt\u001b[0m                         Traceback (most recent call last)",
      "\u001b[0;32m<ipython-input-4-c644155b592c>\u001b[0m in \u001b[0;36m<module>\u001b[0;34m\u001b[0m\n\u001b[0;32m----> 1\u001b[0;31m \u001b[0mdf\u001b[0m \u001b[0;34m=\u001b[0m \u001b[0mspark\u001b[0m\u001b[0;34m.\u001b[0m\u001b[0mread\u001b[0m\u001b[0;34m.\u001b[0m\u001b[0mcsv\u001b[0m\u001b[0;34m(\u001b[0m\u001b[0;34m\"hdfs://namenode:8020/data/telco/telco_churn.csv\"\u001b[0m\u001b[0;34m,\u001b[0m \u001b[0mheader\u001b[0m\u001b[0;34m=\u001b[0m\u001b[0;32mTrue\u001b[0m\u001b[0;34m)\u001b[0m\u001b[0;34m\u001b[0m\u001b[0;34m\u001b[0m\u001b[0m\n\u001b[0m",
      "\u001b[0;32m/usr/local/spark/python/pyspark/sql/readwriter.py\u001b[0m in \u001b[0;36mcsv\u001b[0;34m(self, path, schema, sep, encoding, quote, escape, comment, header, inferSchema, ignoreLeadingWhiteSpace, ignoreTrailingWhiteSpace, nullValue, nanValue, positiveInf, negativeInf, dateFormat, timestampFormat, maxColumns, maxCharsPerColumn, maxMalformedLogPerPartition, mode, columnNameOfCorruptRecord, multiLine, charToEscapeQuoteEscaping, samplingRatio, enforceSchema, emptyValue, locale, lineSep, pathGlobFilter, recursiveFileLookup, modifiedBefore, modifiedAfter, unescapedQuoteHandling)\u001b[0m\n\u001b[1;32m    735\u001b[0m             \u001b[0mpath\u001b[0m \u001b[0;34m=\u001b[0m \u001b[0;34m[\u001b[0m\u001b[0mpath\u001b[0m\u001b[0;34m]\u001b[0m\u001b[0;34m\u001b[0m\u001b[0;34m\u001b[0m\u001b[0m\n\u001b[1;32m    736\u001b[0m         \u001b[0;32mif\u001b[0m \u001b[0mtype\u001b[0m\u001b[0;34m(\u001b[0m\u001b[0mpath\u001b[0m\u001b[0;34m)\u001b[0m \u001b[0;34m==\u001b[0m \u001b[0mlist\u001b[0m\u001b[0;34m:\u001b[0m\u001b[0;34m\u001b[0m\u001b[0;34m\u001b[0m\u001b[0m\n\u001b[0;32m--> 737\u001b[0;31m             \u001b[0;32mreturn\u001b[0m \u001b[0mself\u001b[0m\u001b[0;34m.\u001b[0m\u001b[0m_df\u001b[0m\u001b[0;34m(\u001b[0m\u001b[0mself\u001b[0m\u001b[0;34m.\u001b[0m\u001b[0m_jreader\u001b[0m\u001b[0;34m.\u001b[0m\u001b[0mcsv\u001b[0m\u001b[0;34m(\u001b[0m\u001b[0mself\u001b[0m\u001b[0;34m.\u001b[0m\u001b[0m_spark\u001b[0m\u001b[0;34m.\u001b[0m\u001b[0m_sc\u001b[0m\u001b[0;34m.\u001b[0m\u001b[0m_jvm\u001b[0m\u001b[0;34m.\u001b[0m\u001b[0mPythonUtils\u001b[0m\u001b[0;34m.\u001b[0m\u001b[0mtoSeq\u001b[0m\u001b[0;34m(\u001b[0m\u001b[0mpath\u001b[0m\u001b[0;34m)\u001b[0m\u001b[0;34m)\u001b[0m\u001b[0;34m)\u001b[0m\u001b[0;34m\u001b[0m\u001b[0;34m\u001b[0m\u001b[0m\n\u001b[0m\u001b[1;32m    738\u001b[0m         \u001b[0;32melif\u001b[0m \u001b[0misinstance\u001b[0m\u001b[0;34m(\u001b[0m\u001b[0mpath\u001b[0m\u001b[0;34m,\u001b[0m \u001b[0mRDD\u001b[0m\u001b[0;34m)\u001b[0m\u001b[0;34m:\u001b[0m\u001b[0;34m\u001b[0m\u001b[0;34m\u001b[0m\u001b[0m\n\u001b[1;32m    739\u001b[0m             \u001b[0;32mdef\u001b[0m \u001b[0mfunc\u001b[0m\u001b[0;34m(\u001b[0m\u001b[0miterator\u001b[0m\u001b[0;34m)\u001b[0m\u001b[0;34m:\u001b[0m\u001b[0;34m\u001b[0m\u001b[0;34m\u001b[0m\u001b[0m\n",
      "\u001b[0;32m/usr/local/spark/python/lib/py4j-0.10.9-src.zip/py4j/java_gateway.py\u001b[0m in \u001b[0;36m__call__\u001b[0;34m(self, *args)\u001b[0m\n\u001b[1;32m   1301\u001b[0m             \u001b[0mproto\u001b[0m\u001b[0;34m.\u001b[0m\u001b[0mEND_COMMAND_PART\u001b[0m\u001b[0;34m\u001b[0m\u001b[0;34m\u001b[0m\u001b[0m\n\u001b[1;32m   1302\u001b[0m \u001b[0;34m\u001b[0m\u001b[0m\n\u001b[0;32m-> 1303\u001b[0;31m         \u001b[0manswer\u001b[0m \u001b[0;34m=\u001b[0m \u001b[0mself\u001b[0m\u001b[0;34m.\u001b[0m\u001b[0mgateway_client\u001b[0m\u001b[0;34m.\u001b[0m\u001b[0msend_command\u001b[0m\u001b[0;34m(\u001b[0m\u001b[0mcommand\u001b[0m\u001b[0;34m)\u001b[0m\u001b[0;34m\u001b[0m\u001b[0;34m\u001b[0m\u001b[0m\n\u001b[0m\u001b[1;32m   1304\u001b[0m         return_value = get_return_value(\n\u001b[1;32m   1305\u001b[0m             answer, self.gateway_client, self.target_id, self.name)\n",
      "\u001b[0;32m/usr/local/spark/python/lib/py4j-0.10.9-src.zip/py4j/java_gateway.py\u001b[0m in \u001b[0;36msend_command\u001b[0;34m(self, command, retry, binary)\u001b[0m\n\u001b[1;32m   1031\u001b[0m         \u001b[0mconnection\u001b[0m \u001b[0;34m=\u001b[0m \u001b[0mself\u001b[0m\u001b[0;34m.\u001b[0m\u001b[0m_get_connection\u001b[0m\u001b[0;34m(\u001b[0m\u001b[0;34m)\u001b[0m\u001b[0;34m\u001b[0m\u001b[0;34m\u001b[0m\u001b[0m\n\u001b[1;32m   1032\u001b[0m         \u001b[0;32mtry\u001b[0m\u001b[0;34m:\u001b[0m\u001b[0;34m\u001b[0m\u001b[0;34m\u001b[0m\u001b[0m\n\u001b[0;32m-> 1033\u001b[0;31m             \u001b[0mresponse\u001b[0m \u001b[0;34m=\u001b[0m \u001b[0mconnection\u001b[0m\u001b[0;34m.\u001b[0m\u001b[0msend_command\u001b[0m\u001b[0;34m(\u001b[0m\u001b[0mcommand\u001b[0m\u001b[0;34m)\u001b[0m\u001b[0;34m\u001b[0m\u001b[0;34m\u001b[0m\u001b[0m\n\u001b[0m\u001b[1;32m   1034\u001b[0m             \u001b[0;32mif\u001b[0m \u001b[0mbinary\u001b[0m\u001b[0;34m:\u001b[0m\u001b[0;34m\u001b[0m\u001b[0;34m\u001b[0m\u001b[0m\n\u001b[1;32m   1035\u001b[0m                 \u001b[0;32mreturn\u001b[0m \u001b[0mresponse\u001b[0m\u001b[0;34m,\u001b[0m \u001b[0mself\u001b[0m\u001b[0;34m.\u001b[0m\u001b[0m_create_connection_guard\u001b[0m\u001b[0;34m(\u001b[0m\u001b[0mconnection\u001b[0m\u001b[0;34m)\u001b[0m\u001b[0;34m\u001b[0m\u001b[0;34m\u001b[0m\u001b[0m\n",
      "\u001b[0;32m/usr/local/spark/python/lib/py4j-0.10.9-src.zip/py4j/java_gateway.py\u001b[0m in \u001b[0;36msend_command\u001b[0;34m(self, command)\u001b[0m\n\u001b[1;32m   1198\u001b[0m \u001b[0;34m\u001b[0m\u001b[0m\n\u001b[1;32m   1199\u001b[0m         \u001b[0;32mtry\u001b[0m\u001b[0;34m:\u001b[0m\u001b[0;34m\u001b[0m\u001b[0;34m\u001b[0m\u001b[0m\n\u001b[0;32m-> 1200\u001b[0;31m             \u001b[0manswer\u001b[0m \u001b[0;34m=\u001b[0m \u001b[0msmart_decode\u001b[0m\u001b[0;34m(\u001b[0m\u001b[0mself\u001b[0m\u001b[0;34m.\u001b[0m\u001b[0mstream\u001b[0m\u001b[0;34m.\u001b[0m\u001b[0mreadline\u001b[0m\u001b[0;34m(\u001b[0m\u001b[0;34m)\u001b[0m\u001b[0;34m[\u001b[0m\u001b[0;34m:\u001b[0m\u001b[0;34m-\u001b[0m\u001b[0;36m1\u001b[0m\u001b[0;34m]\u001b[0m\u001b[0;34m)\u001b[0m\u001b[0;34m\u001b[0m\u001b[0;34m\u001b[0m\u001b[0m\n\u001b[0m\u001b[1;32m   1201\u001b[0m             \u001b[0mlogger\u001b[0m\u001b[0;34m.\u001b[0m\u001b[0mdebug\u001b[0m\u001b[0;34m(\u001b[0m\u001b[0;34m\"Answer received: {0}\"\u001b[0m\u001b[0;34m.\u001b[0m\u001b[0mformat\u001b[0m\u001b[0;34m(\u001b[0m\u001b[0manswer\u001b[0m\u001b[0;34m)\u001b[0m\u001b[0;34m)\u001b[0m\u001b[0;34m\u001b[0m\u001b[0;34m\u001b[0m\u001b[0m\n\u001b[1;32m   1202\u001b[0m             \u001b[0;32mif\u001b[0m \u001b[0manswer\u001b[0m\u001b[0;34m.\u001b[0m\u001b[0mstartswith\u001b[0m\u001b[0;34m(\u001b[0m\u001b[0mproto\u001b[0m\u001b[0;34m.\u001b[0m\u001b[0mRETURN_MESSAGE\u001b[0m\u001b[0;34m)\u001b[0m\u001b[0;34m:\u001b[0m\u001b[0;34m\u001b[0m\u001b[0;34m\u001b[0m\u001b[0m\n",
      "\u001b[0;32m/opt/conda/lib/python3.9/socket.py\u001b[0m in \u001b[0;36mreadinto\u001b[0;34m(self, b)\u001b[0m\n\u001b[1;32m    702\u001b[0m         \u001b[0;32mwhile\u001b[0m \u001b[0;32mTrue\u001b[0m\u001b[0;34m:\u001b[0m\u001b[0;34m\u001b[0m\u001b[0;34m\u001b[0m\u001b[0m\n\u001b[1;32m    703\u001b[0m             \u001b[0;32mtry\u001b[0m\u001b[0;34m:\u001b[0m\u001b[0;34m\u001b[0m\u001b[0;34m\u001b[0m\u001b[0m\n\u001b[0;32m--> 704\u001b[0;31m                 \u001b[0;32mreturn\u001b[0m \u001b[0mself\u001b[0m\u001b[0;34m.\u001b[0m\u001b[0m_sock\u001b[0m\u001b[0;34m.\u001b[0m\u001b[0mrecv_into\u001b[0m\u001b[0;34m(\u001b[0m\u001b[0mb\u001b[0m\u001b[0;34m)\u001b[0m\u001b[0;34m\u001b[0m\u001b[0;34m\u001b[0m\u001b[0m\n\u001b[0m\u001b[1;32m    705\u001b[0m             \u001b[0;32mexcept\u001b[0m \u001b[0mtimeout\u001b[0m\u001b[0;34m:\u001b[0m\u001b[0;34m\u001b[0m\u001b[0;34m\u001b[0m\u001b[0m\n\u001b[1;32m    706\u001b[0m                 \u001b[0mself\u001b[0m\u001b[0;34m.\u001b[0m\u001b[0m_timeout_occurred\u001b[0m \u001b[0;34m=\u001b[0m \u001b[0;32mTrue\u001b[0m\u001b[0;34m\u001b[0m\u001b[0;34m\u001b[0m\u001b[0m\n",
      "\u001b[0;31mKeyboardInterrupt\u001b[0m: "
     ]
    }
   ],
   "source": [
    "df = spark.read.csv(\"hdfs://namenode:8020/data/telco/telco_churn.csv\", header=True)"
   ]
  },
  {
   "cell_type": "code",
   "execution_count": 43,
   "id": "e23965b4",
   "metadata": {},
   "outputs": [],
   "source": [
    "from pyspark.sql.functions import *\n",
    "from pyspark.sql.types import *"
   ]
  },
  {
   "cell_type": "code",
   "execution_count": 44,
   "id": "f86dbe6c-970d-46ea-85e2-3e5e8adfc9ad",
   "metadata": {},
   "outputs": [
    {
     "name": "stdout",
     "output_type": "stream",
     "text": [
      "root\n",
      " |-- customerID: string (nullable = true)\n",
      " |-- gender: string (nullable = true)\n",
      " |-- SeniorCitizen: integer (nullable = true)\n",
      " |-- Partner: string (nullable = true)\n",
      " |-- Dependents: string (nullable = true)\n",
      " |-- tenure: integer (nullable = true)\n",
      " |-- PhoneService: string (nullable = true)\n",
      " |-- MultipleLines: string (nullable = true)\n",
      " |-- InternetService: string (nullable = true)\n",
      " |-- OnlineSecurity: string (nullable = true)\n",
      " |-- OnlineBackup: string (nullable = true)\n",
      " |-- DeviceProtection: string (nullable = true)\n",
      " |-- TechSupport: string (nullable = true)\n",
      " |-- StreamingTV: string (nullable = true)\n",
      " |-- StreamingMovies: string (nullable = true)\n",
      " |-- Contract: string (nullable = true)\n",
      " |-- PaperlessBilling: string (nullable = true)\n",
      " |-- PaymentMethod: string (nullable = true)\n",
      " |-- MonthlyCharges: double (nullable = true)\n",
      " |-- TotalCharges: string (nullable = true)\n",
      " |-- Churn: string (nullable = true)\n",
      "\n"
     ]
    }
   ],
   "source": [
    "df.printSchema()"
   ]
  },
  {
   "cell_type": "code",
   "execution_count": 45,
   "id": "a5fdcb7b",
   "metadata": {},
   "outputs": [
    {
     "name": "stdout",
     "output_type": "stream",
     "text": [
      "+----------+------+-------------+-------+----------+------+------------+----------------+---------------+--------------+------------+----------------+-----------+-----------+---------------+--------------+----------------+--------------------+--------------+------------+-----+\n",
      "|customerID|gender|SeniorCitizen|Partner|Dependents|tenure|PhoneService|   MultipleLines|InternetService|OnlineSecurity|OnlineBackup|DeviceProtection|TechSupport|StreamingTV|StreamingMovies|      Contract|PaperlessBilling|       PaymentMethod|MonthlyCharges|TotalCharges|Churn|\n",
      "+----------+------+-------------+-------+----------+------+------------+----------------+---------------+--------------+------------+----------------+-----------+-----------+---------------+--------------+----------------+--------------------+--------------+------------+-----+\n",
      "|7590-VHVEG|Female|            0|    Yes|        No|     1|          No|No phone service|            DSL|            No|         Yes|              No|         No|         No|             No|Month-to-month|             Yes|    Electronic check|         29.85|       29.85|   No|\n",
      "|5575-GNVDE|  Male|            0|     No|        No|    34|         Yes|              No|            DSL|           Yes|          No|             Yes|         No|         No|             No|      One year|              No|        Mailed check|         56.95|      1889.5|   No|\n",
      "|3668-QPYBK|  Male|            0|     No|        No|     2|         Yes|              No|            DSL|           Yes|         Yes|              No|         No|         No|             No|Month-to-month|             Yes|        Mailed check|         53.85|      108.15|  Yes|\n",
      "|7795-CFOCW|  Male|            0|     No|        No|    45|          No|No phone service|            DSL|           Yes|          No|             Yes|        Yes|         No|             No|      One year|              No|Bank transfer (au...|          42.3|     1840.75|   No|\n",
      "+----------+------+-------------+-------+----------+------+------------+----------------+---------------+--------------+------------+----------------+-----------+-----------+---------------+--------------+----------------+--------------------+--------------+------------+-----+\n",
      "only showing top 4 rows\n",
      "\n"
     ]
    }
   ],
   "source": [
    "df.show(4)"
   ]
  },
  {
   "cell_type": "code",
   "execution_count": 46,
   "id": "f08c3219",
   "metadata": {},
   "outputs": [
    {
     "name": "stdout",
     "output_type": "stream",
     "text": [
      "+----------+------+-------------+-------+----------+------+------------+-------------+---------------+--------------+------------+----------------+-----------+-----------+---------------+--------+----------------+-------------+--------------+------------+-----+\n",
      "|customerID|gender|SeniorCitizen|Partner|Dependents|tenure|PhoneService|MultipleLines|InternetService|OnlineSecurity|OnlineBackup|DeviceProtection|TechSupport|StreamingTV|StreamingMovies|Contract|PaperlessBilling|PaymentMethod|MonthlyCharges|TotalCharges|Churn|\n",
      "+----------+------+-------------+-------+----------+------+------------+-------------+---------------+--------------+------------+----------------+-----------+-----------+---------------+--------+----------------+-------------+--------------+------------+-----+\n",
      "|         0|     0|            0|      0|         0|     0|           0|            0|              0|             0|           0|               0|          0|          0|              0|       0|               0|            0|             0|           0|    0|\n",
      "+----------+------+-------------+-------+----------+------+------------+-------------+---------------+--------------+------------+----------------+-----------+-----------+---------------+--------+----------------+-------------+--------------+------------+-----+\n",
      "\n"
     ]
    }
   ],
   "source": [
    "df.select([count(when(col(c).isNull() | isnan(c), c)).alias(c) for c in df.columns]).show()"
   ]
  },
  {
   "cell_type": "markdown",
   "id": "14ceb5d3",
   "metadata": {},
   "source": [
    "## No NULL Values"
   ]
  },
  {
   "cell_type": "code",
   "execution_count": 47,
   "id": "29417050",
   "metadata": {},
   "outputs": [
    {
     "name": "stdout",
     "output_type": "stream",
     "text": [
      "+-------+----------+------+------------------+-------+----------+------------------+------------+-------------+---------------+--------------+------------+----------------+-----------+-----------+---------------+--------------+----------------+--------------------+------------------+------------------+-----+\n",
      "|summary|customerID|gender|     SeniorCitizen|Partner|Dependents|            tenure|PhoneService|MultipleLines|InternetService|OnlineSecurity|OnlineBackup|DeviceProtection|TechSupport|StreamingTV|StreamingMovies|      Contract|PaperlessBilling|       PaymentMethod|    MonthlyCharges|      TotalCharges|Churn|\n",
      "+-------+----------+------+------------------+-------+----------+------------------+------------+-------------+---------------+--------------+------------+----------------+-----------+-----------+---------------+--------------+----------------+--------------------+------------------+------------------+-----+\n",
      "|  count|      7043|  7043|              7043|   7043|      7043|              7043|        7043|         7043|           7043|          7043|        7043|            7043|       7043|       7043|           7043|          7043|            7043|                7043|              7043|              7043| 7043|\n",
      "|   mean|      null|  null|0.1621468124378816|   null|      null| 32.37114865824223|        null|         null|           null|          null|        null|            null|       null|       null|           null|          null|            null|                null| 64.76169246059922|2283.3004408418697| null|\n",
      "| stddev|      null|  null|0.3686116056100135|   null|      null|24.559481023094442|        null|         null|           null|          null|        null|            null|       null|       null|           null|          null|            null|                null|30.090047097678482| 2266.771361883145| null|\n",
      "|    min|0002-ORFBO|Female|                 0|     No|        No|                 0|          No|           No|            DSL|            No|          No|              No|         No|         No|             No|Month-to-month|              No|Bank transfer (au...|             18.25|                  |   No|\n",
      "|    max|9995-HOTOH|  Male|                 1|    Yes|       Yes|                72|         Yes|          Yes|             No|           Yes|         Yes|             Yes|        Yes|        Yes|            Yes|      Two year|             Yes|        Mailed check|            118.75|             999.9|  Yes|\n",
      "+-------+----------+------+------------------+-------+----------+------------------+------------+-------------+---------------+--------------+------------+----------------+-----------+-----------+---------------+--------------+----------------+--------------------+------------------+------------------+-----+\n",
      "\n"
     ]
    }
   ],
   "source": [
    "summary = df.describe()\n",
    "summary.show()"
   ]
  },
  {
   "cell_type": "code",
   "execution_count": 48,
   "id": "8959c7e9",
   "metadata": {},
   "outputs": [],
   "source": [
    "string_columns = [field.name for field in df.schema.fields if isinstance(field.dataType, StringType)]\n",
    "df_string_only = df.select(string_columns)"
   ]
  },
  {
   "cell_type": "code",
   "execution_count": 49,
   "id": "625228f2",
   "metadata": {},
   "outputs": [
    {
     "name": "stdout",
     "output_type": "stream",
     "text": [
      "Column: customerID\n",
      "+----------+\n",
      "|customerID|\n",
      "+----------+\n",
      "|3668-QPYBK|\n",
      "|6234-RAAPL|\n",
      "|1894-IGFSG|\n",
      "|6982-SSHFK|\n",
      "|5859-HZYLF|\n",
      "|6479-OAUSD|\n",
      "|2592-YKDIF|\n",
      "|6718-BDGHG|\n",
      "|3195-TQDZX|\n",
      "|4248-QPAVC|\n",
      "|5668-MEISB|\n",
      "|5802-ADBRC|\n",
      "|2712-SYWAY|\n",
      "|2011-TRQYE|\n",
      "|7244-KXYZN|\n",
      "|0953-LGOVU|\n",
      "|3623-FQBOX|\n",
      "|3692-JHONH|\n",
      "|3528-HFRIQ|\n",
      "|7661-CPURM|\n",
      "+----------+\n",
      "only showing top 20 rows\n",
      "\n",
      "Column: gender\n",
      "+------+\n",
      "|gender|\n",
      "+------+\n",
      "|Female|\n",
      "|  Male|\n",
      "+------+\n",
      "\n",
      "Column: Partner\n",
      "+-------+\n",
      "|Partner|\n",
      "+-------+\n",
      "|     No|\n",
      "|    Yes|\n",
      "+-------+\n",
      "\n",
      "Column: Dependents\n",
      "+----------+\n",
      "|Dependents|\n",
      "+----------+\n",
      "|        No|\n",
      "|       Yes|\n",
      "+----------+\n",
      "\n",
      "Column: PhoneService\n",
      "+------------+\n",
      "|PhoneService|\n",
      "+------------+\n",
      "|          No|\n",
      "|         Yes|\n",
      "+------------+\n",
      "\n",
      "Column: MultipleLines\n",
      "+----------------+\n",
      "|   MultipleLines|\n",
      "+----------------+\n",
      "|No phone service|\n",
      "|              No|\n",
      "|             Yes|\n",
      "+----------------+\n",
      "\n",
      "Column: InternetService\n",
      "+---------------+\n",
      "|InternetService|\n",
      "+---------------+\n",
      "|    Fiber optic|\n",
      "|             No|\n",
      "|            DSL|\n",
      "+---------------+\n",
      "\n",
      "Column: OnlineSecurity\n",
      "+-------------------+\n",
      "|     OnlineSecurity|\n",
      "+-------------------+\n",
      "|                 No|\n",
      "|                Yes|\n",
      "|No internet service|\n",
      "+-------------------+\n",
      "\n",
      "Column: OnlineBackup\n",
      "+-------------------+\n",
      "|       OnlineBackup|\n",
      "+-------------------+\n",
      "|                 No|\n",
      "|                Yes|\n",
      "|No internet service|\n",
      "+-------------------+\n",
      "\n",
      "Column: DeviceProtection\n",
      "+-------------------+\n",
      "|   DeviceProtection|\n",
      "+-------------------+\n",
      "|                 No|\n",
      "|                Yes|\n",
      "|No internet service|\n",
      "+-------------------+\n",
      "\n",
      "Column: TechSupport\n",
      "+-------------------+\n",
      "|        TechSupport|\n",
      "+-------------------+\n",
      "|                 No|\n",
      "|                Yes|\n",
      "|No internet service|\n",
      "+-------------------+\n",
      "\n",
      "Column: StreamingTV\n",
      "+-------------------+\n",
      "|        StreamingTV|\n",
      "+-------------------+\n",
      "|                 No|\n",
      "|                Yes|\n",
      "|No internet service|\n",
      "+-------------------+\n",
      "\n",
      "Column: StreamingMovies\n",
      "+-------------------+\n",
      "|    StreamingMovies|\n",
      "+-------------------+\n",
      "|                 No|\n",
      "|                Yes|\n",
      "|No internet service|\n",
      "+-------------------+\n",
      "\n",
      "Column: Contract\n",
      "+--------------+\n",
      "|      Contract|\n",
      "+--------------+\n",
      "|Month-to-month|\n",
      "|      One year|\n",
      "|      Two year|\n",
      "+--------------+\n",
      "\n",
      "Column: PaperlessBilling\n",
      "+----------------+\n",
      "|PaperlessBilling|\n",
      "+----------------+\n",
      "|              No|\n",
      "|             Yes|\n",
      "+----------------+\n",
      "\n",
      "Column: PaymentMethod\n",
      "+--------------------+\n",
      "|       PaymentMethod|\n",
      "+--------------------+\n",
      "|Credit card (auto...|\n",
      "|        Mailed check|\n",
      "|Bank transfer (au...|\n",
      "|    Electronic check|\n",
      "+--------------------+\n",
      "\n",
      "Column: TotalCharges\n",
      "+------------+\n",
      "|TotalCharges|\n",
      "+------------+\n",
      "|      3437.5|\n",
      "|     1612.75|\n",
      "|       483.7|\n",
      "|      1756.6|\n",
      "|     2633.95|\n",
      "|      6710.5|\n",
      "|      1490.4|\n",
      "|      936.85|\n",
      "|      340.35|\n",
      "|       550.6|\n",
      "|      3055.5|\n",
      "|     1522.65|\n",
      "|     4494.65|\n",
      "|        78.9|\n",
      "|       291.9|\n",
      "|       545.2|\n",
      "|      5432.2|\n",
      "|      600.15|\n",
      "|     1285.05|\n",
      "|      2638.1|\n",
      "+------------+\n",
      "only showing top 20 rows\n",
      "\n",
      "Column: Churn\n",
      "+-----+\n",
      "|Churn|\n",
      "+-----+\n",
      "|   No|\n",
      "|  Yes|\n",
      "+-----+\n",
      "\n"
     ]
    }
   ],
   "source": [
    "for column in string_columns:\n",
    "    print(f\"Column: {column}\")\n",
    "    df.select(column).distinct().show()"
   ]
  },
  {
   "cell_type": "markdown",
   "id": "6e6c8479",
   "metadata": {},
   "source": [
    "## Uniquness ✅"
   ]
  },
  {
   "cell_type": "code",
   "execution_count": 50,
   "id": "f4c8160d",
   "metadata": {},
   "outputs": [],
   "source": [
    "df = df.withColumn(\"TotalCharges\", col(\"TotalCharges\").cast(\"double\"))"
   ]
  },
  {
   "cell_type": "code",
   "execution_count": 51,
   "id": "c6958180",
   "metadata": {},
   "outputs": [
    {
     "name": "stdout",
     "output_type": "stream",
     "text": [
      "root\n",
      " |-- customerID: string (nullable = true)\n",
      " |-- gender: string (nullable = true)\n",
      " |-- SeniorCitizen: integer (nullable = true)\n",
      " |-- Partner: string (nullable = true)\n",
      " |-- Dependents: string (nullable = true)\n",
      " |-- tenure: integer (nullable = true)\n",
      " |-- PhoneService: string (nullable = true)\n",
      " |-- MultipleLines: string (nullable = true)\n",
      " |-- InternetService: string (nullable = true)\n",
      " |-- OnlineSecurity: string (nullable = true)\n",
      " |-- OnlineBackup: string (nullable = true)\n",
      " |-- DeviceProtection: string (nullable = true)\n",
      " |-- TechSupport: string (nullable = true)\n",
      " |-- StreamingTV: string (nullable = true)\n",
      " |-- StreamingMovies: string (nullable = true)\n",
      " |-- Contract: string (nullable = true)\n",
      " |-- PaperlessBilling: string (nullable = true)\n",
      " |-- PaymentMethod: string (nullable = true)\n",
      " |-- MonthlyCharges: double (nullable = true)\n",
      " |-- TotalCharges: double (nullable = true)\n",
      " |-- Churn: string (nullable = true)\n",
      "\n"
     ]
    }
   ],
   "source": [
    "df.printSchema()"
   ]
  },
  {
   "cell_type": "markdown",
   "id": "02a2838f",
   "metadata": {},
   "source": [
    "## Validity ✅"
   ]
  },
  {
   "cell_type": "code",
   "execution_count": 52,
   "id": "776a4a2b",
   "metadata": {},
   "outputs": [
    {
     "data": {
      "text/plain": [
       "7043"
      ]
     },
     "execution_count": 52,
     "metadata": {},
     "output_type": "execute_result"
    }
   ],
   "source": [
    "df.distinct().count()"
   ]
  },
  {
   "cell_type": "code",
   "execution_count": 53,
   "id": "69acc63c",
   "metadata": {},
   "outputs": [
    {
     "data": {
      "text/plain": [
       "7043"
      ]
     },
     "execution_count": 53,
     "metadata": {},
     "output_type": "execute_result"
    }
   ],
   "source": [
    "df.count()"
   ]
  },
  {
   "cell_type": "markdown",
   "id": "ca3de179",
   "metadata": {},
   "source": [
    "## Uniquness ✅ "
   ]
  },
  {
   "cell_type": "code",
   "execution_count": 54,
   "id": "f904ca01",
   "metadata": {},
   "outputs": [],
   "source": [
    "MCS = df.select(\"MonthlyCharges\" ).sample(False , 0.1 , seed=42).toPandas()"
   ]
  },
  {
   "cell_type": "code",
   "execution_count": 55,
   "id": "95503f8e",
   "metadata": {},
   "outputs": [
    {
     "data": {
      "image/png": "[encoded data removed]",
      "text/plain": [
       "<Figure size 864x360 with 2 Axes>"
      ]
     },
     "metadata": {
      "needs_background": "light"
     },
     "output_type": "display_data"
    }
   ],
   "source": [
    "import seaborn as sns\n",
    "import matplotlib.pyplot as plt\n",
    "\n",
    "plt.figure(figsize=(12,5))\n",
    "\n",
    "plt.subplot(1, 2, 1)\n",
    "sns.histplot(data=MCS, x=\"MonthlyCharges\", kde=True, color=\"skyblue\")\n",
    "plt.title(\"Histogram of Monthly Charges\")\n",
    "\n",
    "plt.subplot(1, 2, 2)\n",
    "sns.boxplot(data=MCS, x=\"MonthlyCharges\", color=\"lightgreen\")\n",
    "plt.title(\"Boxplot of Monthly Charges\")\n",
    "\n",
    "plt.tight_layout()\n",
    "plt.show()"
   ]
  },
  {
   "cell_type": "code",
   "execution_count": 56,
   "id": "a2ecaf5c",
   "metadata": {},
   "outputs": [],
   "source": [
    "TCS = df.select(\"TotalCharges\" ).sample(False , 0.1 , seed=42).toPandas()"
   ]
  },
  {
   "cell_type": "code",
   "execution_count": 57,
   "id": "bfd349b3",
   "metadata": {},
   "outputs": [
    {
     "data": {
      "text/plain": [
       "<AxesSubplot:xlabel='TotalCharges'>"
      ]
     },
     "execution_count": 57,
     "metadata": {},
     "output_type": "execute_result"
    },
    {
     "data": {
      "image/png": "[encoded data removed]",
      "text/plain": [
       "<Figure size 864x360 with 2 Axes>"
      ]
     },
     "metadata": {
      "needs_background": "light"
     },
     "output_type": "display_data"
    }
   ],
   "source": [
    "plt.figure(figsize=(12, 5))\n",
    "\n",
    "plt.subplot(1, 2, 1)\n",
    "sns.histplot(x=\"TotalCharges\", data=TCS)\n",
    "\n",
    "plt.subplot(1, 2, 2)\n",
    "sns.boxplot(x=\"TotalCharges\", data=TCS)"
   ]
  },
  {
   "cell_type": "code",
   "execution_count": 58,
   "id": "f8120e92",
   "metadata": {},
   "outputs": [],
   "source": [
    "churn = df.select(\"Churn\").sample(False, 0.1, seed=42).toPandas()"
   ]
  },
  {
   "cell_type": "code",
   "execution_count": 59,
   "id": "6ca09078",
   "metadata": {},
   "outputs": [
    {
     "data": {
      "text/plain": [
       "No     565\n",
       "Yes    193\n",
       "Name: Churn, dtype: int64"
      ]
     },
     "execution_count": 59,
     "metadata": {},
     "output_type": "execute_result"
    }
   ],
   "source": [
    "churn['Churn'].value_counts()"
   ]
  },
  {
   "cell_type": "code",
   "execution_count": 60,
   "id": "e934df22",
   "metadata": {},
   "outputs": [
    {
     "data": {
      "text/plain": [
       "<AxesSubplot:xlabel='Churn', ylabel='count'>"
      ]
     },
     "execution_count": 60,
     "metadata": {},
     "output_type": "execute_result"
    },
    {
     "data": {
      "image/png": "[encoded data removed]",
      "text/plain": [
       "<Figure size 432x288 with 1 Axes>"
      ]
     },
     "metadata": {
      "needs_background": "light"
     },
     "output_type": "display_data"
    }
   ],
   "source": [
    "sns.countplot(data=churn, x=\"Churn\")"
   ]
  },
  {
   "cell_type": "markdown",
   "id": "71ad1ede",
   "metadata": {},
   "source": [
    "## 📌 Imbalanced Dataset"
   ]
  },
  {
   "cell_type": "code",
   "execution_count": 61,
   "id": "7fd7b92b",
   "metadata": {},
   "outputs": [
    {
     "name": "stdout",
     "output_type": "stream",
     "text": [
      "+----------+------+-------------+-------+----------+------+------------+----------------+---------------+--------------+------------+----------------+-----------+-----------+---------------+--------------+----------------+--------------------+--------------+------------+-----+\n",
      "|customerID|gender|SeniorCitizen|Partner|Dependents|tenure|PhoneService|   MultipleLines|InternetService|OnlineSecurity|OnlineBackup|DeviceProtection|TechSupport|StreamingTV|StreamingMovies|      Contract|PaperlessBilling|       PaymentMethod|MonthlyCharges|TotalCharges|Churn|\n",
      "+----------+------+-------------+-------+----------+------+------------+----------------+---------------+--------------+------------+----------------+-----------+-----------+---------------+--------------+----------------+--------------------+--------------+------------+-----+\n",
      "|7590-VHVEG|Female|            0|    Yes|        No|     1|          No|No phone service|            DSL|            No|         Yes|              No|         No|         No|             No|Month-to-month|             Yes|    Electronic check|         29.85|       29.85|   No|\n",
      "|5575-GNVDE|  Male|            0|     No|        No|    34|         Yes|              No|            DSL|           Yes|          No|             Yes|         No|         No|             No|      One year|              No|        Mailed check|         56.95|      1889.5|   No|\n",
      "|3668-QPYBK|  Male|            0|     No|        No|     2|         Yes|              No|            DSL|           Yes|         Yes|              No|         No|         No|             No|Month-to-month|             Yes|        Mailed check|         53.85|      108.15|  Yes|\n",
      "|7795-CFOCW|  Male|            0|     No|        No|    45|          No|No phone service|            DSL|           Yes|          No|             Yes|        Yes|         No|             No|      One year|              No|Bank transfer (au...|          42.3|     1840.75|   No|\n",
      "|9237-HQITU|Female|            0|     No|        No|     2|         Yes|              No|    Fiber optic|            No|          No|              No|         No|         No|             No|Month-to-month|             Yes|    Electronic check|          70.7|      151.65|  Yes|\n",
      "+----------+------+-------------+-------+----------+------+------------+----------------+---------------+--------------+------------+----------------+-----------+-----------+---------------+--------------+----------------+--------------------+--------------+------------+-----+\n",
      "only showing top 5 rows\n",
      "\n"
     ]
    }
   ],
   "source": [
    "df.show(5)"
   ]
  },
  {
   "cell_type": "code",
   "execution_count": 62,
   "id": "84b28718",
   "metadata": {},
   "outputs": [],
   "source": [
    "df_pandas = df.toPandas()"
   ]
  },
  {
   "cell_type": "code",
   "execution_count": 63,
   "id": "68296243",
   "metadata": {},
   "outputs": [
    {
     "data": {
      "text/plain": [
       "customerID           0\n",
       "gender               0\n",
       "SeniorCitizen        0\n",
       "Partner              0\n",
       "Dependents           0\n",
       "tenure               0\n",
       "PhoneService         0\n",
       "MultipleLines        0\n",
       "InternetService      0\n",
       "OnlineSecurity       0\n",
       "OnlineBackup         0\n",
       "DeviceProtection     0\n",
       "TechSupport          0\n",
       "StreamingTV          0\n",
       "StreamingMovies      0\n",
       "Contract             0\n",
       "PaperlessBilling     0\n",
       "PaymentMethod        0\n",
       "MonthlyCharges       0\n",
       "TotalCharges        11\n",
       "Churn                0\n",
       "dtype: int64"
      ]
     },
     "execution_count": 63,
     "metadata": {},
     "output_type": "execute_result"
    }
   ],
   "source": [
    "df_pandas.isna().sum()"
   ]
  },
  {
   "cell_type": "code",
   "execution_count": 64,
   "id": "1ce403f4",
   "metadata": {},
   "outputs": [
    {
     "name": "stdout",
     "output_type": "stream",
     "text": [
      "+----------+------+-------------+-------+----------+------+------------+----------------+---------------+-------------------+-------------------+-------------------+-------------------+-------------------+-------------------+--------+----------------+--------------------+--------------+------------+-----+\n",
      "|customerID|gender|SeniorCitizen|Partner|Dependents|tenure|PhoneService|   MultipleLines|InternetService|     OnlineSecurity|       OnlineBackup|   DeviceProtection|        TechSupport|        StreamingTV|    StreamingMovies|Contract|PaperlessBilling|       PaymentMethod|MonthlyCharges|TotalCharges|Churn|\n",
      "+----------+------+-------------+-------+----------+------+------------+----------------+---------------+-------------------+-------------------+-------------------+-------------------+-------------------+-------------------+--------+----------------+--------------------+--------------+------------+-----+\n",
      "|4472-LVYGI|Female|            0|    Yes|       Yes|     0|          No|No phone service|            DSL|                Yes|                 No|                Yes|                Yes|                Yes|                 No|Two year|             Yes|Bank transfer (au...|         52.55|        null|   No|\n",
      "|3115-CZMZD|  Male|            0|     No|       Yes|     0|         Yes|              No|             No|No internet service|No internet service|No internet service|No internet service|No internet service|No internet service|Two year|              No|        Mailed check|         20.25|        null|   No|\n",
      "|5709-LVOEQ|Female|            0|    Yes|       Yes|     0|         Yes|              No|            DSL|                Yes|                Yes|                Yes|                 No|                Yes|                Yes|Two year|              No|        Mailed check|         80.85|        null|   No|\n",
      "|4367-NUYAO|  Male|            0|    Yes|       Yes|     0|         Yes|             Yes|             No|No internet service|No internet service|No internet service|No internet service|No internet service|No internet service|Two year|              No|        Mailed check|         25.75|        null|   No|\n",
      "|1371-DWPAZ|Female|            0|    Yes|       Yes|     0|          No|No phone service|            DSL|                Yes|                Yes|                Yes|                Yes|                Yes|                 No|Two year|              No|Credit card (auto...|         56.05|        null|   No|\n",
      "|7644-OMVMY|  Male|            0|    Yes|       Yes|     0|         Yes|              No|             No|No internet service|No internet service|No internet service|No internet service|No internet service|No internet service|Two year|              No|        Mailed check|         19.85|        null|   No|\n",
      "|3213-VVOLG|  Male|            0|    Yes|       Yes|     0|         Yes|             Yes|             No|No internet service|No internet service|No internet service|No internet service|No internet service|No internet service|Two year|              No|        Mailed check|         25.35|        null|   No|\n",
      "|2520-SGTTA|Female|            0|    Yes|       Yes|     0|         Yes|              No|             No|No internet service|No internet service|No internet service|No internet service|No internet service|No internet service|Two year|              No|        Mailed check|          20.0|        null|   No|\n",
      "|2923-ARZLG|  Male|            0|    Yes|       Yes|     0|         Yes|              No|             No|No internet service|No internet service|No internet service|No internet service|No internet service|No internet service|One year|             Yes|        Mailed check|          19.7|        null|   No|\n",
      "|4075-WKNIU|Female|            0|    Yes|       Yes|     0|         Yes|             Yes|            DSL|                 No|                Yes|                Yes|                Yes|                Yes|                 No|Two year|              No|        Mailed check|         73.35|        null|   No|\n",
      "|2775-SEFEE|  Male|            0|     No|       Yes|     0|         Yes|             Yes|            DSL|                Yes|                Yes|                 No|                Yes|                 No|                 No|Two year|             Yes|Bank transfer (au...|          61.9|        null|   No|\n",
      "+----------+------+-------------+-------+----------+------+------------+----------------+---------------+-------------------+-------------------+-------------------+-------------------+-------------------+-------------------+--------+----------------+--------------------+--------------+------------+-----+\n",
      "\n"
     ]
    }
   ],
   "source": [
    "df.filter(col(\"TotalCharges\").isNull()).show()"
   ]
  },
  {
   "cell_type": "markdown",
   "id": "eae8689f",
   "metadata": {},
   "source": [
    "## 📌 The missing value of `TotalCharges` is when `the tenure = 0` which means these customers have just joined and haven't been charged yet"
   ]
  },
  {
   "cell_type": "code",
   "execution_count": 67,
   "id": "ca7e6188",
   "metadata": {},
   "outputs": [],
   "source": [
    "df = df.withColumn(\"TotalCharges\", when(col(\"TotalCharges\").isNull(), 0).otherwise(col(\"TotalCharges\")))"
   ]
  },
  {
   "cell_type": "markdown",
   "id": "9fe78052",
   "metadata": {},
   "source": [
    "## impute the missing values with 0 ✅"
   ]
  },
  {
   "cell_type": "code",
   "execution_count": 70,
   "id": "5ca99500",
   "metadata": {},
   "outputs": [],
   "source": [
    "for colname in df.columns:\n",
    "    df = df.withColumnRenamed(colname, colname.strip().lower().replace(\" \", \"_\"))\n"
   ]
  },
  {
   "cell_type": "code",
   "execution_count": 72,
   "id": "b04c0386",
   "metadata": {},
   "outputs": [
    {
     "name": "stdout",
     "output_type": "stream",
     "text": [
      "root\n",
      " |-- customerid: string (nullable = true)\n",
      " |-- gender: string (nullable = true)\n",
      " |-- seniorcitizen: integer (nullable = true)\n",
      " |-- partner: string (nullable = true)\n",
      " |-- dependents: string (nullable = true)\n",
      " |-- tenure: integer (nullable = true)\n",
      " |-- phoneservice: string (nullable = true)\n",
      " |-- multiplelines: string (nullable = true)\n",
      " |-- internetservice: string (nullable = true)\n",
      " |-- onlinesecurity: string (nullable = true)\n",
      " |-- onlinebackup: string (nullable = true)\n",
      " |-- deviceprotection: string (nullable = true)\n",
      " |-- techsupport: string (nullable = true)\n",
      " |-- streamingtv: string (nullable = true)\n",
      " |-- streamingmovies: string (nullable = true)\n",
      " |-- contract: string (nullable = true)\n",
      " |-- paperlessbilling: string (nullable = true)\n",
      " |-- paymentmethod: string (nullable = true)\n",
      " |-- monthlycharges: double (nullable = true)\n",
      " |-- totalcharges: double (nullable = true)\n",
      " |-- churn: string (nullable = true)\n",
      "\n"
     ]
    }
   ],
   "source": [
    "df.printSchema()"
   ]
  },
  {
   "cell_type": "code",
   "execution_count": 74,
   "id": "0f21b99a",
   "metadata": {},
   "outputs": [],
   "source": [
    "df = df.withColumn(\"seniorcitizen\", when(col(\"seniorcitizen\") == 1 , \"Yes\").otherwise(\"No\"))"
   ]
  }
 ],
 "metadata": {
  "kernelspec": {
   "display_name": "Python 3",
   "language": "python",
   "name": "python3"
  },
  "language_info": {
   "codemirror_mode": {
    "name": "ipython",
    "version": 3
   },
   "file_extension": ".py",
   "mimetype": "text/x-python",
   "name": "python",
   "nbconvert_exporter": "python",
   "pygments_lexer": "ipython3",
   "version": "3.9.4"
  }
 },
 "nbformat": 4,
 "nbformat_minor": 5
}
